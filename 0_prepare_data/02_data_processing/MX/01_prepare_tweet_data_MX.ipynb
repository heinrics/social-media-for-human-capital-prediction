{
 "cells": [
  {
   "cell_type": "markdown",
   "metadata": {},
   "source": [
    "# Process MX data to count number of tweets per municipality"
   ]
  },
  {
   "cell_type": "markdown",
   "metadata": {},
   "source": [
    "Processes and cleans the data and then computes tweet statistics (nr of tweets, users etc.) for each Mexican municipality\n",
    "\n",
    "CREATES:\n",
    "- ID file for all included tweets/users with link to muncipality of tweet and user\n",
    "- Tweet level data file\n",
    "- Muncipality level summary statistics for nr of tweets, users etc."
   ]
  },
  {
   "cell_type": "code",
   "execution_count": 1,
   "metadata": {},
   "outputs": [
    {
     "name": "stderr",
     "output_type": "stream",
     "text": [
      "C:\\Users\\jakob\\.virtualenvs\\mapping_mistakes\\lib\\site-packages\\geopandas\\_compat.py:123: UserWarning: The Shapely GEOS version (3.10.3-CAPI-1.16.1) is incompatible with the GEOS version PyGEOS was compiled with (3.10.4-CAPI-1.16.2). Conversions between both will be slow.\n",
      "  warnings.warn(\n"
     ]
    }
   ],
   "source": [
    "################################################################################\n",
    "# Import modules\n",
    "################################################################################\n",
    "import os\n",
    "import dask\n",
    "import dask.bag as db\n",
    "from dask.diagnostics import ProgressBar\n",
    "import dask.dataframe as dd\n",
    "import swifter\n",
    "\n",
    "import pandas as pd\n",
    "import numpy as np\n",
    "import statistics as st\n",
    "\n",
    "import json\n",
    "import pprint\n",
    "import geopandas\n",
    "import glob\n",
    "\n",
    "import time\n",
    "import datetime\n",
    "import pytz"
   ]
  },
  {
   "cell_type": "code",
   "execution_count": 2,
   "metadata": {},
   "outputs": [],
   "source": [
    "start = time.time()"
   ]
  },
  {
   "cell_type": "code",
   "execution_count": 3,
   "metadata": {},
   "outputs": [],
   "source": [
    "# Set utilities\n",
    "pp = pprint.PrettyPrinter(indent=4)\n",
    "p_print = pp.pprint\n",
    "pd.options.display.max_colwidth = 100"
   ]
  },
  {
   "cell_type": "code",
   "execution_count": 4,
   "outputs": [],
   "source": [
    "################################################################################\n",
    "# Specify paths\n",
    "################################################################################\n",
    "os.chdir(\"../..\")\n",
    "mode = \"full\" # sample\n",
    "if mode == \"full\":\n",
    "    input_path = \"PATH TO FOLDER\"\n",
    "    output_path = \"PATH TO FOLDER\"\n",
    "if mode == \"sample\":\n",
    "    input_path = \"PATH TO FOLDER\"\n",
    "    output_path = \"PATH TO FOLDER\"\n",
    "geo_path = \"PATH TO FOLDER\""
   ],
   "metadata": {
    "collapsed": false
   }
  },
  {
   "cell_type": "code",
   "execution_count": 5,
   "metadata": {},
   "outputs": [
    {
     "name": "stdout",
     "output_type": "stream",
     "text": [
      "Tweets for 1489 hours = 62.0 days = 2.1 months!\n"
     ]
    }
   ],
   "source": [
    "hours = len(glob.glob(input_path))\n",
    "print(f\"Tweets for {hours} hours = {round(hours/24, 1)} days = {round(hours/24/30,1)} months!\")"
   ]
  },
  {
   "cell_type": "markdown",
   "metadata": {},
   "source": [
    "## 1. Create dask dataframe"
   ]
  },
  {
   "cell_type": "code",
   "execution_count": 6,
   "outputs": [],
   "source": [
    "tweets = db.read_text(input_path) \\\n",
    "            .filter(lambda x: x != '\\n') \\\n",
    "            .filter(lambda x: \"created_at\" in x) \\\n",
    "            .map(lambda x: x.replace(\"\\n\", \"\")) \\\n",
    "            .map(json.loads)\n",
    "\n",
    "tweet_info = tweets.map(lambda x: [x[\"id_str\"],\n",
    "                                   x[\"created_at\"],\n",
    "                                   x[\"extended_tweet\"][\"full_text\"] if \"extended_tweet\" in x else x[\"text\"],\n",
    "                                   x[\"user\"][\"id_str\"],\n",
    "                                   x[\"user\"][\"followers_count\"],\n",
    "                                   x[\"user\"][\"friends_count\"],\n",
    "                                   x[\"user\"][\"statuses_count\"],\n",
    "                                   x[\"user\"][\"verified\"],\n",
    "                                   x[\"user\"][\"description\"],\n",
    "                                   x[\"user\"][\"created_at\"],\n",
    "                                   x[\"place\"][\"country_code\"] if x[\"place\"]!= None else None,\n",
    "                                   x[\"coordinates\"][\"coordinates\"] if x[\"coordinates\"] != None else None,\n",
    "                                   x[\"place\"][\"place_type\"] if x[\"place\"] != None else None,\n",
    "                                   x[\"place\"][\"name\"] if x[\"place\"] != None else None,\n",
    "                                   x[\"place\"][\"bounding_box\"][\"coordinates\"][0] if x[\"place\"] != None else None,\n",
    "                                   x[\"is_quote_status\"],\n",
    "                                   x[\"user\"][\"is_translator\"],\n",
    "                                   x[\"source\"],\n",
    "                                   x[\"lang\"]\n",
    "                                  ])\n",
    "\n",
    "\n",
    "tweet_dd = tweet_info.to_dataframe(columns = [\"id\",\n",
    "                                              \"created_at\",\n",
    "                                              \"tweet\",\n",
    "                                              \"user_id\",\n",
    "                                              \"user_followers\",\n",
    "                                              \"user_friends\",\n",
    "                                              \"user_statuses\",\n",
    "                                              \"user_verified\",\n",
    "                                              \"user_description\",\n",
    "                                              \"user_created_at\",\n",
    "                                              \"country_code\",\n",
    "                                              \"coordinates\",\n",
    "                                              \"place_type\",\n",
    "                                              \"place_name\",\n",
    "                                              \"bounding_box\",\n",
    "                                              \"is_quote_status\",\n",
    "                                              \"is_translator\",\n",
    "                                              \"source\",\n",
    "                                              \"language\"\n",
    "                                             ])\n",
    "\n",
    "\n",
    "\n",
    "# Keep only English tweets in the US (and drop translators)\n",
    "tweet_dd = tweet_dd[(tweet_dd[\"country_code\"] == \"MX\") & (tweet_dd[\"language\"] == \"es\")]\n",
    "tweet_dd = tweet_dd[tweet_dd[\"is_translator\"]==False]\n",
    "\n",
    "tweet_dd = tweet_dd.drop([\"is_translator\", \"country_code\", \"language\"], axis=1)\n"
   ],
   "metadata": {
    "collapsed": false
   }
  },
  {
   "cell_type": "markdown",
   "source": [
    "## 2. Inspect, clean and prepare georeferenced data"
   ],
   "metadata": {
    "collapsed": false
   }
  },
  {
   "cell_type": "markdown",
   "source": [
    "### 2.1 Clean and inspect geodata of tweets"
   ],
   "metadata": {
    "collapsed": false
   }
  },
  {
   "cell_type": "code",
   "execution_count": 7,
   "metadata": {},
   "outputs": [
    {
     "name": "stdout",
     "output_type": "stream",
     "text": [
      "city            2700041\n",
      "poi               43710\n",
      "admin             24727\n",
      "neighborhood       8264\n",
      "country            7909\n",
      "Name: place_type, dtype: int64\n"
     ]
    }
   ],
   "source": [
    "# Inspect place types\n",
    "place_types = tweet_dd.place_type.value_counts().compute(scheduler='processes')\n",
    "print(place_types)"
   ]
  },
  {
   "cell_type": "code",
   "execution_count": 8,
   "outputs": [
    {
     "data": {
      "text/plain": "135399"
     },
     "execution_count": 8,
     "metadata": {},
     "output_type": "execute_result"
    }
   ],
   "source": [
    "# Check number of tweets with exact coordinates\n",
    "tweet_dd[\"coordinates\"].notnull().sum().compute(scheduler='processes')"
   ],
   "metadata": {
    "collapsed": false
   }
  },
  {
   "cell_type": "code",
   "execution_count": 9,
   "outputs": [
    {
     "data": {
      "text/plain": "5739               México\n7122              Yucatán\n9857               México\n11495        Quintana Roo\n12082        Quintana Roo\n13925              México\n21713    Distrito Federal\n22517    Distrito Federal\n25866        Quintana Roo\n26076        Quintana Roo\n27716        Quintana Roo\n29360        Quintana Roo\n29995        Quintana Roo\n30609    Distrito Federal\n31996    Distrito Federal\n34973              México\n35190        Quintana Roo\n36821              México\n37152    Distrito Federal\n37456        Quintana Roo\nName: place_name, dtype: object"
     },
     "execution_count": 9,
     "metadata": {},
     "output_type": "execute_result"
    }
   ],
   "source": [
    "# Check if admin is state or municipality\n",
    "tweet_dd.loc[tweet_dd.place_type == \"admin\", \"place_name\"].head(20) # = state"
   ],
   "metadata": {
    "collapsed": false
   }
  },
  {
   "cell_type": "code",
   "execution_count": 10,
   "metadata": {},
   "outputs": [
    {
     "data": {
      "text/plain": "city            2565057\npoi               43710\nneighborhood       8242\nName: place_type, dtype: int64"
     },
     "execution_count": 10,
     "metadata": {},
     "output_type": "execute_result"
    }
   ],
   "source": [
    "# Drop country and state level data\n",
    "tweet_dd = tweet_dd[(tweet_dd[\"place_type\"].isin([\"country\", \"admin\"]) == False) |\n",
    "                    tweet_dd[\"coordinates\"].notnull()]\n",
    "tweet_dd.loc[tweet_dd[\"coordinates\"].isnull(), \"place_type\"].value_counts().compute(scheduler='processes')"
   ]
  },
  {
   "cell_type": "code",
   "execution_count": 11,
   "metadata": {},
   "outputs": [],
   "source": [
    "# Compute center of coordinate bounding box\n",
    "def get_center_coords(x):\n",
    "\n",
    "    if x != None:\n",
    "        long1 = max(row[0] for row in x)\n",
    "        long2 = min(row[0] for row in x)\n",
    "        lat1 = max(row[1] for row in x)\n",
    "        lat2 = min(row[1] for row in x)\n",
    "\n",
    "        long_cent = (long1 + long2)/2\n",
    "        lat_cent = (lat1 + lat2)/2\n",
    "        return [long_cent, lat_cent]\n",
    "\n",
    "    else:\n",
    "        return [None, None] # Return None when no coordinate box available"
   ]
  },
  {
   "cell_type": "code",
   "execution_count": 12,
   "metadata": {},
   "outputs": [],
   "source": [
    "tweet_dd[\"approx_coords\"] = tweet_dd[\"bounding_box\"].apply(get_center_coords, meta=list)"
   ]
  },
  {
   "cell_type": "code",
   "execution_count": 13,
   "metadata": {},
   "outputs": [
    {
     "name": "stderr",
     "output_type": "stream",
     "text": [
      "C:\\Users\\jakob\\.virtualenvs\\mapping_mistakes\\lib\\site-packages\\dask\\dataframe\\core.py:5692: UserWarning: \n",
      "You did not provide metadata, so Dask is running your function on a small dataset to guess output types. It is possible that Dask will guess incorrectly.\n",
      "To provide an explicit output types or to silence this message, please provide the `meta=` keyword, as described in the map or apply function that you are using.\n",
      "  Before: .apply(func)\n",
      "  After:  .apply(func, meta=(None, 'object'))\n",
      "\n",
      "  warnings.warn(meta_warning(meta))\n"
     ]
    },
    {
     "data": {
      "text/plain": "                     id                      created_at  \\\n2   1421591477897945088  Sat Jul 31 21:59:54 +0000 2021   \n28  1421591486269960196  Sat Jul 31 21:59:56 +0000 2021   \n30  1421591486118903810  Sat Jul 31 21:59:56 +0000 2021   \n37  1421591489608617986  Sat Jul 31 21:59:57 +0000 2021   \n39  1421591490619494402  Sat Jul 31 21:59:57 +0000 2021   \n\n                                                                                                  tweet  \\\n2   Una gran experiencia en estas sesiones de fotos en la mágica Santorini, Grecia 🇬🇷 https://t.co/p...   \n28        @iCamilxx @armandofo90 Con gusto siempre que necesites hablar … aquí me encuentras! #abrazote   \n30                                                                Buen provecho https://t.co/XO9bN3CZEt   \n37  Gordas con su Apple Watch que sólo les sirve de relog porque en su puta vida han corrido ni 100 ...   \n39                               Jamás dejaría que mi lealtad y respeto me fallarán de algún modo a mi.   \n\n                user_id  user_followers  user_friends  user_statuses  \\\n2   1394205255076823042             361           852           2955   \n28  1086511899062226944             256           199           5369   \n30           1457811133              93           101           6012   \n37            222512654             594          1227          14572   \n39            132549316              61           202            575   \n\n    user_verified  \\\n2           False   \n28          False   \n30          False   \n37          False   \n39          False   \n\n                                                                                       user_description  \\\n2   Reflexiones, Poemas, Paisajes, ciudades, lo cotidiano de la vida, naturaleza #CDMX #SéFeliz sígu...   \n28  Actor, Médico (Urgencias-Critica-Hiperbárica), loco, patético, cantante, soñador y medio fácil! ...   \n30                                                            Live fast die young be wild and have fun.   \n37  Aspirante a sibarita!\\r\\n                                                                       ...   \n39                                                                          ¡life is a roaller coaster!   \n\n                   user_created_at coordinates place_type  \\\n2   Mon May 17 08:17:13 +0000 2021        None       city   \n28  Sat Jan 19 06:33:17 +0000 2019        None       city   \n30  Sat May 25 18:58:41 +0000 2013        None        poi   \n37  Fri Dec 03 16:52:34 +0000 2010        None       city   \n39  Tue Apr 13 14:59:41 +0000 2010        None       city   \n\n             place_name  \\\n2           José Azueta   \n28  Ecatepec de Morelos   \n30            Contramar   \n37               Mérida   \n39           Xochimilco   \n\n                                                                                           bounding_box  \\\n2   [[-101.714639, 17.540426], [-101.714639, 18.060683], [-101.199391, 18.060683], [-101.199391, 17....   \n28  [[-99.118665, 19.484399], [-99.118665, 19.652161], [-98.970224, 19.652161], [-98.970224, 19.4843...   \n30  [[-99.167145, 19.419785], [-99.167145, 19.419785], [-99.167145, 19.419785], [-99.167145, 19.4197...   \n37  [[-89.798197, 20.695104], [-89.798197, 21.186966], [-89.449025, 21.186966], [-89.449025, 20.6951...   \n39  [[-99.160023, 19.152878], [-99.160023, 19.319611], [-99.003557, 19.319611], [-99.003557, 19.1528...   \n\n    is_quote_status  \\\n2             False   \n28            False   \n30            False   \n37            False   \n39            False   \n\n                                                                                  source  \\\n2     <a href=\"http://twitter.com/download/iphone\" rel=\"nofollow\">Twitter for iPhone</a>   \n28    <a href=\"http://twitter.com/download/iphone\" rel=\"nofollow\">Twitter for iPhone</a>   \n30  <a href=\"http://twitter.com/download/android\" rel=\"nofollow\">Twitter for Android</a>   \n37  <a href=\"http://twitter.com/download/android\" rel=\"nofollow\">Twitter for Android</a>   \n39  <a href=\"http://twitter.com/download/android\" rel=\"nofollow\">Twitter for Android</a>   \n\n                        approx_coords                        best_coords  \n2   [-101.45701500000001, 17.8005545]  [-101.45701500000001, 17.8005545]  \n28            [-99.0444445, 19.56828]            [-99.0444445, 19.56828]  \n30            [-99.167145, 19.419785]            [-99.167145, 19.419785]  \n37    [-89.62361100000001, 20.941035]    [-89.62361100000001, 20.941035]  \n39    [-99.08179, 19.236244499999998]    [-99.08179, 19.236244499999998]  ",
      "text/html": "<div>\n<style scoped>\n    .dataframe tbody tr th:only-of-type {\n        vertical-align: middle;\n    }\n\n    .dataframe tbody tr th {\n        vertical-align: top;\n    }\n\n    .dataframe thead th {\n        text-align: right;\n    }\n</style>\n<table border=\"1\" class=\"dataframe\">\n  <thead>\n    <tr style=\"text-align: right;\">\n      <th></th>\n      <th>id</th>\n      <th>created_at</th>\n      <th>tweet</th>\n      <th>user_id</th>\n      <th>user_followers</th>\n      <th>user_friends</th>\n      <th>user_statuses</th>\n      <th>user_verified</th>\n      <th>user_description</th>\n      <th>user_created_at</th>\n      <th>coordinates</th>\n      <th>place_type</th>\n      <th>place_name</th>\n      <th>bounding_box</th>\n      <th>is_quote_status</th>\n      <th>source</th>\n      <th>approx_coords</th>\n      <th>best_coords</th>\n    </tr>\n  </thead>\n  <tbody>\n    <tr>\n      <th>2</th>\n      <td>1421591477897945088</td>\n      <td>Sat Jul 31 21:59:54 +0000 2021</td>\n      <td>Una gran experiencia en estas sesiones de fotos en la mágica Santorini, Grecia 🇬🇷 https://t.co/p...</td>\n      <td>1394205255076823042</td>\n      <td>361</td>\n      <td>852</td>\n      <td>2955</td>\n      <td>False</td>\n      <td>Reflexiones, Poemas, Paisajes, ciudades, lo cotidiano de la vida, naturaleza #CDMX #SéFeliz sígu...</td>\n      <td>Mon May 17 08:17:13 +0000 2021</td>\n      <td>None</td>\n      <td>city</td>\n      <td>José Azueta</td>\n      <td>[[-101.714639, 17.540426], [-101.714639, 18.060683], [-101.199391, 18.060683], [-101.199391, 17....</td>\n      <td>False</td>\n      <td>&lt;a href=\"http://twitter.com/download/iphone\" rel=\"nofollow\"&gt;Twitter for iPhone&lt;/a&gt;</td>\n      <td>[-101.45701500000001, 17.8005545]</td>\n      <td>[-101.45701500000001, 17.8005545]</td>\n    </tr>\n    <tr>\n      <th>28</th>\n      <td>1421591486269960196</td>\n      <td>Sat Jul 31 21:59:56 +0000 2021</td>\n      <td>@iCamilxx @armandofo90 Con gusto siempre que necesites hablar … aquí me encuentras! #abrazote</td>\n      <td>1086511899062226944</td>\n      <td>256</td>\n      <td>199</td>\n      <td>5369</td>\n      <td>False</td>\n      <td>Actor, Médico (Urgencias-Critica-Hiperbárica), loco, patético, cantante, soñador y medio fácil! ...</td>\n      <td>Sat Jan 19 06:33:17 +0000 2019</td>\n      <td>None</td>\n      <td>city</td>\n      <td>Ecatepec de Morelos</td>\n      <td>[[-99.118665, 19.484399], [-99.118665, 19.652161], [-98.970224, 19.652161], [-98.970224, 19.4843...</td>\n      <td>False</td>\n      <td>&lt;a href=\"http://twitter.com/download/iphone\" rel=\"nofollow\"&gt;Twitter for iPhone&lt;/a&gt;</td>\n      <td>[-99.0444445, 19.56828]</td>\n      <td>[-99.0444445, 19.56828]</td>\n    </tr>\n    <tr>\n      <th>30</th>\n      <td>1421591486118903810</td>\n      <td>Sat Jul 31 21:59:56 +0000 2021</td>\n      <td>Buen provecho https://t.co/XO9bN3CZEt</td>\n      <td>1457811133</td>\n      <td>93</td>\n      <td>101</td>\n      <td>6012</td>\n      <td>False</td>\n      <td>Live fast die young be wild and have fun.</td>\n      <td>Sat May 25 18:58:41 +0000 2013</td>\n      <td>None</td>\n      <td>poi</td>\n      <td>Contramar</td>\n      <td>[[-99.167145, 19.419785], [-99.167145, 19.419785], [-99.167145, 19.419785], [-99.167145, 19.4197...</td>\n      <td>False</td>\n      <td>&lt;a href=\"http://twitter.com/download/android\" rel=\"nofollow\"&gt;Twitter for Android&lt;/a&gt;</td>\n      <td>[-99.167145, 19.419785]</td>\n      <td>[-99.167145, 19.419785]</td>\n    </tr>\n    <tr>\n      <th>37</th>\n      <td>1421591489608617986</td>\n      <td>Sat Jul 31 21:59:57 +0000 2021</td>\n      <td>Gordas con su Apple Watch que sólo les sirve de relog porque en su puta vida han corrido ni 100 ...</td>\n      <td>222512654</td>\n      <td>594</td>\n      <td>1227</td>\n      <td>14572</td>\n      <td>False</td>\n      <td>Aspirante a sibarita!\\r\\n                                                                       ...</td>\n      <td>Fri Dec 03 16:52:34 +0000 2010</td>\n      <td>None</td>\n      <td>city</td>\n      <td>Mérida</td>\n      <td>[[-89.798197, 20.695104], [-89.798197, 21.186966], [-89.449025, 21.186966], [-89.449025, 20.6951...</td>\n      <td>False</td>\n      <td>&lt;a href=\"http://twitter.com/download/android\" rel=\"nofollow\"&gt;Twitter for Android&lt;/a&gt;</td>\n      <td>[-89.62361100000001, 20.941035]</td>\n      <td>[-89.62361100000001, 20.941035]</td>\n    </tr>\n    <tr>\n      <th>39</th>\n      <td>1421591490619494402</td>\n      <td>Sat Jul 31 21:59:57 +0000 2021</td>\n      <td>Jamás dejaría que mi lealtad y respeto me fallarán de algún modo a mi.</td>\n      <td>132549316</td>\n      <td>61</td>\n      <td>202</td>\n      <td>575</td>\n      <td>False</td>\n      <td>¡life is a roaller coaster!</td>\n      <td>Tue Apr 13 14:59:41 +0000 2010</td>\n      <td>None</td>\n      <td>city</td>\n      <td>Xochimilco</td>\n      <td>[[-99.160023, 19.152878], [-99.160023, 19.319611], [-99.003557, 19.319611], [-99.003557, 19.1528...</td>\n      <td>False</td>\n      <td>&lt;a href=\"http://twitter.com/download/android\" rel=\"nofollow\"&gt;Twitter for Android&lt;/a&gt;</td>\n      <td>[-99.08179, 19.236244499999998]</td>\n      <td>[-99.08179, 19.236244499999998]</td>\n    </tr>\n  </tbody>\n</table>\n</div>"
     },
     "execution_count": 13,
     "metadata": {},
     "output_type": "execute_result"
    }
   ],
   "source": [
    "# Get best coordinates: exact coordinates if available, else center of bounding box\n",
    "tweet_dd[\"best_coords\"] = tweet_dd.apply(lambda x: x[\"coordinates\"] if x[\"coordinates\"] != None\n",
    "                                        else x[\"approx_coords\"], axis=1)\n",
    "tweet_dd.head()"
   ]
  },
  {
   "cell_type": "code",
   "execution_count": 14,
   "metadata": {},
   "outputs": [
    {
     "data": {
      "text/plain": "id                  2752408\ncreated_at          2752408\ntweet               2752408\nuser_id             2752408\nuser_followers      2752408\nuser_friends        2752408\nuser_statuses       2752408\nuser_verified       2752408\nuser_description    2397962\nuser_created_at     2752408\ncoordinates          135399\nplace_type          2752408\nplace_name          2752408\nbounding_box        2752408\nis_quote_status     2752408\nsource              2752408\napprox_coords       2752408\nbest_coords         2752408\ndtype: int64"
     },
     "execution_count": 14,
     "metadata": {},
     "output_type": "execute_result"
    }
   ],
   "source": [
    "# Inspect nr of non-missing observations per column\n",
    "tweet_dd.count().compute(scheduler='processes')"
   ]
  },
  {
   "cell_type": "markdown",
   "metadata": {},
   "source": [
    "### 2.2 Convert tweet data to geodataframe"
   ]
  },
  {
   "cell_type": "code",
   "execution_count": 15,
   "metadata": {},
   "outputs": [],
   "source": [
    "# Keep only data with coordinates\n",
    "tweet_dd = tweet_dd[~tweet_dd['best_coords'].isna()]\n",
    "tweet_dd['long'] = tweet_dd['best_coords'].apply(lambda x: x[0], meta=float)\n",
    "tweet_dd['lat'] = tweet_dd['best_coords'].apply(lambda x: x[1], meta=float)"
   ]
  },
  {
   "cell_type": "code",
   "execution_count": 16,
   "metadata": {},
   "outputs": [],
   "source": [
    "# Convert to geo dataframe\n",
    "df = tweet_dd.compute(scheduler='processes')\n",
    "df = geopandas.GeoDataFrame(\n",
    "    tweet_dd.compute(scheduler='processes'), geometry=geopandas.points_from_xy(df.long, df.lat))"
   ]
  },
  {
   "cell_type": "code",
   "execution_count": 17,
   "outputs": [],
   "source": [
    "# Import shp-file on MX municipalities\n",
    "muns = geopandas.read_file(geo_path + \"/mex_admbnda_adm2_govmex_20210618.shp\")\n",
    "muns.rename({\"ADM2_ES\" : \"NAME\",\n",
    "           \"ADM2_PCODE\" : \"GEOID\"}, axis=1, inplace=True)"
   ],
   "metadata": {
    "collapsed": false
   }
  },
  {
   "cell_type": "code",
   "execution_count": 18,
   "outputs": [
    {
     "name": "stdout",
     "output_type": "stream",
     "text": [
      "epsg:4326\n"
     ]
    }
   ],
   "source": [
    "# Change projection (to make map look better)\n",
    "df.crs = {'init': 'epsg:4326', 'no_defs': True}\n",
    "df = df.to_crs(\"EPSG:5071\")\n",
    "\n",
    "print(muns.crs)\n",
    "muns = muns.to_crs(\"EPSG:5071\")"
   ],
   "metadata": {
    "collapsed": false
   }
  },
  {
   "cell_type": "code",
   "execution_count": 19,
   "outputs": [
    {
     "data": {
      "text/plain": "              NAME                          ADM1_ES\n12         Acanceh                          Yucatán\n20         Acatlán                           Puebla\n63          Aldama                          Chiapas\n83        Alvarado  Veracruz de Ignacio de la Llave\n84  Álvaro Obregón                 Distrito Federal",
      "text/html": "<div>\n<style scoped>\n    .dataframe tbody tr th:only-of-type {\n        vertical-align: middle;\n    }\n\n    .dataframe tbody tr th {\n        vertical-align: top;\n    }\n\n    .dataframe thead th {\n        text-align: right;\n    }\n</style>\n<table border=\"1\" class=\"dataframe\">\n  <thead>\n    <tr style=\"text-align: right;\">\n      <th></th>\n      <th>NAME</th>\n      <th>ADM1_ES</th>\n    </tr>\n  </thead>\n  <tbody>\n    <tr>\n      <th>12</th>\n      <td>Acanceh</td>\n      <td>Yucatán</td>\n    </tr>\n    <tr>\n      <th>20</th>\n      <td>Acatlán</td>\n      <td>Puebla</td>\n    </tr>\n    <tr>\n      <th>63</th>\n      <td>Aldama</td>\n      <td>Chiapas</td>\n    </tr>\n    <tr>\n      <th>83</th>\n      <td>Alvarado</td>\n      <td>Veracruz de Ignacio de la Llave</td>\n    </tr>\n    <tr>\n      <th>84</th>\n      <td>Álvaro Obregón</td>\n      <td>Distrito Federal</td>\n    </tr>\n  </tbody>\n</table>\n</div>"
     },
     "execution_count": 19,
     "metadata": {},
     "output_type": "execute_result"
    }
   ],
   "source": [
    "# Mark municipalities where centroid lies in other municipality\n",
    "muns[\"centroid_bb\"] = muns[\"geometry\"].envelope.centroid\n",
    "muns[\"centroid_in_mun\"] = muns[\"geometry\"].contains(muns[\"centroid_bb\"] )\n",
    "muns[\"centroid_in_mun\"].value_counts()\n",
    "muns.loc[muns[\"centroid_in_mun\"] == False, [\"NAME\", \"ADM1_ES\"]].head()"
   ],
   "metadata": {
    "collapsed": false
   }
  },
  {
   "cell_type": "code",
   "execution_count": 20,
   "outputs": [
    {
     "name": "stdout",
     "output_type": "stream",
     "text": [
      "1    2232\n",
      "2     116\n",
      "3      39\n",
      "4      32\n",
      "5      25\n",
      "7       7\n",
      "6       6\n",
      "Name: name_count, dtype: int64\n"
     ]
    }
   ],
   "source": [
    "# Mark municipalities with non-unique names (same names in different states)\n",
    "muns[\"name_count\"] = muns.groupby(\"NAME\")[\"NAME\"].transform(\"count\")\n",
    "print(muns[\"name_count\"].value_counts())"
   ],
   "metadata": {
    "collapsed": false
   }
  },
  {
   "cell_type": "code",
   "execution_count": 21,
   "outputs": [
    {
     "data": {
      "text/plain": "1    2457\nName: NAME, dtype: int64"
     },
     "execution_count": 21,
     "metadata": {},
     "output_type": "execute_result"
    }
   ],
   "source": [
    "muns.groupby([\"ADM1_ES\", \"NAME\"])[\"NAME\"].transform(\"count\").value_counts() # Unique within states"
   ],
   "metadata": {
    "collapsed": false
   }
  },
  {
   "cell_type": "markdown",
   "source": [
    "### 2.3 Join with municipality dataset"
   ],
   "metadata": {
    "collapsed": false
   }
  },
  {
   "cell_type": "code",
   "execution_count": 22,
   "outputs": [
    {
     "name": "stdout",
     "output_type": "stream",
     "text": [
      "2752408\n",
      "                    id                      created_at  \\\n",
      "0  1421591477897945088  Sat Jul 31 21:59:54 +0000 2021   \n",
      "1  1421591486269960196  Sat Jul 31 21:59:56 +0000 2021   \n",
      "2  1421591486118903810  Sat Jul 31 21:59:56 +0000 2021   \n",
      "3  1421591489608617986  Sat Jul 31 21:59:57 +0000 2021   \n",
      "\n",
      "                                                                                                 tweet  \\\n",
      "0  Una gran experiencia en estas sesiones de fotos en la mágica Santorini, Grecia 🇬🇷 https://t.co/p...   \n",
      "1        @iCamilxx @armandofo90 Con gusto siempre que necesites hablar … aquí me encuentras! #abrazote   \n",
      "2                                                                Buen provecho https://t.co/XO9bN3CZEt   \n",
      "3  Gordas con su Apple Watch que sólo les sirve de relog porque en su puta vida han corrido ni 100 ...   \n",
      "\n",
      "               user_id  user_followers  user_friends  user_statuses  \\\n",
      "0  1394205255076823042             361           852           2955   \n",
      "1  1086511899062226944             256           199           5369   \n",
      "2           1457811133              93           101           6012   \n",
      "3            222512654             594          1227          14572   \n",
      "\n",
      "   user_verified  \\\n",
      "0          False   \n",
      "1          False   \n",
      "2          False   \n",
      "3          False   \n",
      "\n",
      "                                                                                      user_description  \\\n",
      "0  Reflexiones, Poemas, Paisajes, ciudades, lo cotidiano de la vida, naturaleza #CDMX #SéFeliz sígu...   \n",
      "1  Actor, Médico (Urgencias-Critica-Hiperbárica), loco, patético, cantante, soñador y medio fácil! ...   \n",
      "2                                                            Live fast die young be wild and have fun.   \n",
      "3  Aspirante a sibarita!\\r\\n                                                                       ...   \n",
      "\n",
      "                  user_created_at  ...  \\\n",
      "0  Mon May 17 08:17:13 +0000 2021  ...   \n",
      "1  Sat Jan 19 06:33:17 +0000 2019  ...   \n",
      "2  Sat May 25 18:58:41 +0000 2013  ...   \n",
      "3  Fri Dec 03 16:52:34 +0000 2010  ...   \n",
      "\n",
      "                                                                                 source  \\\n",
      "0    <a href=\"http://twitter.com/download/iphone\" rel=\"nofollow\">Twitter for iPhone</a>   \n",
      "1    <a href=\"http://twitter.com/download/iphone\" rel=\"nofollow\">Twitter for iPhone</a>   \n",
      "2  <a href=\"http://twitter.com/download/android\" rel=\"nofollow\">Twitter for Android</a>   \n",
      "3  <a href=\"http://twitter.com/download/android\" rel=\"nofollow\">Twitter for Android</a>   \n",
      "\n",
      "                       approx_coords                        best_coords  \\\n",
      "0  [-101.45701500000001, 17.8005545]  [-101.45701500000001, 17.8005545]   \n",
      "1            [-99.0444445, 19.56828]            [-99.0444445, 19.56828]   \n",
      "2            [-99.167145, 19.419785]            [-99.167145, 19.419785]   \n",
      "3    [-89.62361100000001, 20.941035]    [-89.62361100000001, 20.941035]   \n",
      "\n",
      "         long        lat                         geometry    GEOID  \\\n",
      "0 -101.457015  17.800555  POINT (-601917.801 -541858.839)  MX12038   \n",
      "1  -99.044444  19.568280  POINT (-329889.801 -365143.899)  MX15033   \n",
      "2  -99.167145  19.419785  POINT (-343710.688 -380610.800)  MX09015   \n",
      "3  -89.623611  20.941035   POINT (680638.945 -200024.915)  MX31050   \n",
      "\n",
      "                    NAME           ADM1_ES  centroid_in_mun  \n",
      "0  Zihuatanejo de Azueta          Guerrero             True  \n",
      "1    Ecatepec de Morelos            México             True  \n",
      "2             Cuauhtémoc  Distrito Federal             True  \n",
      "3                 Mérida           Yucatán             True  \n",
      "\n",
      "[4 rows x 25 columns]\n",
      "Index(['id', 'created_at', 'tweet', 'user_id', 'user_followers',\n",
      "       'user_friends', 'user_statuses', 'user_verified', 'user_description',\n",
      "       'user_created_at', 'coordinates', 'place_type', 'place_name',\n",
      "       'bounding_box', 'is_quote_status', 'source', 'approx_coords',\n",
      "       'best_coords', 'long', 'lat', 'geometry', 'GEOID', 'NAME', 'ADM1_ES',\n",
      "       'centroid_in_mun'],\n",
      "      dtype='object')\n"
     ]
    },
    {
     "data": {
      "text/plain": "2752408"
     },
     "execution_count": 22,
     "metadata": {},
     "output_type": "execute_result"
    }
   ],
   "source": [
    "# 1. Join with municipality that contains centroid of bounding box (problem if mun level precision and centroid not in mun)\n",
    "print(len(df))\n",
    "muns.geometry.name = \"mun_polygon\"\n",
    "df = geopandas.sjoin(df, muns[[\"GEOID\", \"NAME\", \"ADM1_ES\", \"centroid_in_mun\", \"geometry\"]],\n",
    "                     how='left', op='within')\n",
    "df.reset_index(drop=True, inplace=True)\n",
    "df.drop(\"index_right\", inplace=True, axis=1)\n",
    "print(df.head(4))\n",
    "print(df.columns)\n",
    "len(df)"
   ],
   "metadata": {
    "collapsed": false
   }
  },
  {
   "cell_type": "code",
   "execution_count": 23,
   "outputs": [
    {
     "name": "stdout",
     "output_type": "stream",
     "text": [
      "35531\n"
     ]
    },
    {
     "data": {
      "text/plain": "place_type  place_name  \ncity        Boca del Río    18364\n            Guaymas          6049\n            Carmen           5323\n            Alvarado         2027\n            Huatabampo        705\n            Champotón         609\n            Escuinapa         415\n            San Blas          275\n            Tampico Alto      220\n            Cozumel           202\ndtype: int64"
     },
     "execution_count": 23,
     "metadata": {},
     "output_type": "execute_result"
    }
   ],
   "source": [
    "# Check tweets that were not merged\n",
    "print(len(df[df[\"GEOID\"].isna()]))\n",
    "df.loc[df[\"GEOID\"].isna(), [\"place_type\", \"place_name\"]].value_counts().head(10) # Mostly coastal places\n"
   ],
   "metadata": {
    "collapsed": false
   }
  },
  {
   "cell_type": "code",
   "execution_count": 24,
   "outputs": [
    {
     "data": {
      "text/plain": "Index(['id', 'created_at', 'tweet', 'user_id', 'user_followers',\n       'user_friends', 'user_statuses', 'user_verified', 'user_description',\n       'user_created_at', 'coordinates', 'place_type', 'place_name',\n       'bounding_box', 'is_quote_status', 'source', 'approx_coords',\n       'best_coords', 'long', 'lat', 'geometry', 'mun_id_within',\n       'mun_name_within', 'state_id_within', 'centroid_in_mun_within'],\n      dtype='object')"
     },
     "execution_count": 24,
     "metadata": {},
     "output_type": "execute_result"
    }
   ],
   "source": [
    "# Rename columns\n",
    "df.rename({\"GEOID\": \"mun_id_within\",\n",
    "           \"NAME\": \"mun_name_within\",\n",
    "           \"ADM1_ES\": \"state_id_within\",\n",
    "           'centroid_in_mun': \"centroid_in_mun_within\"}, axis=1, inplace=True)\n",
    "df.geometry.name = \"best_coords\"\n",
    "df.columns"
   ],
   "metadata": {
    "collapsed": false
   }
  },
  {
   "cell_type": "code",
   "execution_count": 25,
   "outputs": [],
   "source": [
    "# 2. Join with municipality with closest bounding box centroid (only correct if municipality level precision)\n",
    "muns = muns.set_geometry('centroid_bb')\n"
   ],
   "metadata": {
    "collapsed": false
   }
  },
  {
   "cell_type": "code",
   "execution_count": 26,
   "outputs": [
    {
     "name": "stdout",
     "output_type": "stream",
     "text": [
      "2752408\n",
      "                    id                      created_at  \\\n",
      "0  1421591477897945088  Sat Jul 31 21:59:54 +0000 2021   \n",
      "1  1421592908705058818  Sat Jul 31 22:05:36 +0000 2021   \n",
      "2  1421599302762176515  Sat Jul 31 22:31:00 +0000 2021   \n",
      "3  1421601815422902272  Sat Jul 31 22:40:59 +0000 2021   \n",
      "\n",
      "                                                                                                 tweet  \\\n",
      "0  Una gran experiencia en estas sesiones de fotos en la mágica Santorini, Grecia 🇬🇷 https://t.co/p...   \n",
      "1             Un pequeño recorrido por la majestuosa Ciudad de México #CDMX 🇲🇽 https://t.co/YERY5SPYFq   \n",
      "2  @fab_vazquez @CamMttz Que se vuelva a hacer la prueba, que se atienda con un especialista y guar...   \n",
      "3                                        Nunca te quedes con las ganas de nada https://t.co/wNWheL6Mo0   \n",
      "\n",
      "               user_id  user_followers  user_friends  user_statuses  \\\n",
      "0  1394205255076823042             361           852           2955   \n",
      "1  1394205255076823042             361           852           2956   \n",
      "2  1394205255076823042             361           852           2961   \n",
      "3  1394205255076823042             361           852           2962   \n",
      "\n",
      "   user_verified  \\\n",
      "0          False   \n",
      "1          False   \n",
      "2          False   \n",
      "3          False   \n",
      "\n",
      "                                                                                      user_description  \\\n",
      "0  Reflexiones, Poemas, Paisajes, ciudades, lo cotidiano de la vida, naturaleza #CDMX #SéFeliz sígu...   \n",
      "1  Reflexiones, Poemas, Paisajes, ciudades, lo cotidiano de la vida, naturaleza #CDMX #SéFeliz sígu...   \n",
      "2  Reflexiones, Poemas, Paisajes, ciudades, lo cotidiano de la vida, naturaleza #CDMX #SéFeliz sígu...   \n",
      "3  Reflexiones, Poemas, Paisajes, ciudades, lo cotidiano de la vida, naturaleza #CDMX #SéFeliz sígu...   \n",
      "\n",
      "                  user_created_at  ...                         geometry  \\\n",
      "0  Mon May 17 08:17:13 +0000 2021  ...  POINT (-601917.801 -541858.839)   \n",
      "1  Mon May 17 08:17:13 +0000 2021  ...  POINT (-601917.801 -541858.839)   \n",
      "2  Mon May 17 08:17:13 +0000 2021  ...  POINT (-601917.801 -541858.839)   \n",
      "3  Mon May 17 08:17:13 +0000 2021  ...  POINT (-601917.801 -541858.839)   \n",
      "\n",
      "  mun_id_within        mun_name_within state_id_within  \\\n",
      "0       MX12038  Zihuatanejo de Azueta        Guerrero   \n",
      "1       MX12038  Zihuatanejo de Azueta        Guerrero   \n",
      "2       MX12038  Zihuatanejo de Azueta        Guerrero   \n",
      "3       MX12038  Zihuatanejo de Azueta        Guerrero   \n",
      "\n",
      "   centroid_in_mun_within index_right    GEOID                   NAME  \\\n",
      "0                    True        2435  MX12038  Zihuatanejo de Azueta   \n",
      "1                    True        2435  MX12038  Zihuatanejo de Azueta   \n",
      "2                    True        2435  MX12038  Zihuatanejo de Azueta   \n",
      "3                    True        2435  MX12038  Zihuatanejo de Azueta   \n",
      "\n",
      "    ADM1_ES  centroid_in_mun  \n",
      "0  Guerrero             True  \n",
      "1  Guerrero             True  \n",
      "2  Guerrero             True  \n",
      "3  Guerrero             True  \n",
      "\n",
      "[4 rows x 30 columns]\n"
     ]
    },
    {
     "data": {
      "text/plain": "2752408"
     },
     "execution_count": 26,
     "metadata": {},
     "output_type": "execute_result"
    }
   ],
   "source": [
    "print(len(df))\n",
    "df = geopandas.sjoin_nearest(df, muns[[\"GEOID\",\n",
    "                                       \"NAME\",\n",
    "                                       \"ADM1_ES\",\n",
    "                                       \"centroid_in_mun\",\n",
    "                                       \"centroid_bb\"]].set_geometry('centroid_bb'))\n",
    "df.reset_index(drop=True, inplace=True)\n",
    "print(df.head(4))\n",
    "len(df)"
   ],
   "metadata": {
    "collapsed": false
   }
  },
  {
   "cell_type": "code",
   "execution_count": 27,
   "outputs": [
    {
     "data": {
      "text/plain": "Index(['id', 'created_at', 'tweet', 'user_id', 'user_followers',\n       'user_friends', 'user_statuses', 'user_verified', 'user_description',\n       'user_created_at', 'coordinates', 'place_type', 'place_name',\n       'bounding_box', 'is_quote_status', 'source', 'approx_coords',\n       'best_coords', 'long', 'lat', 'geometry', 'mun_id_within',\n       'mun_name_within', 'state_id_within', 'centroid_in_mun_within',\n       'index_right', 'GEOID', 'NAME', 'ADM1_ES', 'centroid_in_mun'],\n      dtype='object')"
     },
     "execution_count": 27,
     "metadata": {},
     "output_type": "execute_result"
    }
   ],
   "source": [
    "df.columns"
   ],
   "metadata": {
    "collapsed": false
   }
  },
  {
   "cell_type": "code",
   "execution_count": 28,
   "outputs": [
    {
     "data": {
      "text/plain": "Index(['id', 'created_at', 'tweet', 'user_id', 'user_followers',\n       'user_friends', 'user_statuses', 'user_verified', 'user_description',\n       'user_created_at', 'coordinates', 'place_type', 'place_name',\n       'bounding_box', 'is_quote_status', 'source', 'approx_coords',\n       'best_coords', 'long', 'lat', 'geometry', 'mun_id_within',\n       'mun_name_within', 'state_id_within', 'centroid_in_mun_within',\n       'index_right', 'mun_id_nearest', 'mun_name_nearest', 'state_id_nearest',\n       'centroid_in_mun_nearest'],\n      dtype='object')"
     },
     "execution_count": 28,
     "metadata": {},
     "output_type": "execute_result"
    }
   ],
   "source": [
    "# Rename columns\n",
    "df.rename({\"GEOID\": \"mun_id_nearest\",\n",
    "           \"NAME\": \"mun_name_nearest\",\n",
    "           \"ADM1_ES\": \"state_id_nearest\",\n",
    "           'centroid_in_mun': \"centroid_in_mun_nearest\"}, axis=1, inplace=True)\n",
    "df.columns"
   ],
   "metadata": {
    "collapsed": false
   }
  },
  {
   "cell_type": "code",
   "execution_count": 29,
   "outputs": [
    {
     "name": "stdout",
     "output_type": "stream",
     "text": [
      "city            2565057\n",
      "exact            135399\n",
      "poi               43710\n",
      "neighborhood       8242\n",
      "Name: place_type, dtype: int64\n"
     ]
    },
    {
     "data": {
      "text/plain": "0"
     },
     "execution_count": 29,
     "metadata": {},
     "output_type": "execute_result"
    }
   ],
   "source": [
    "# Check and clean place types\n",
    "df.loc[df[\"coordinates\"].notnull(), \"place_type\"] = \"exact\"\n",
    "df.loc[df[\"coordinates\"].notnull(), \"place_name\"] = np.nan\n",
    "print(df.place_type.value_counts())\n",
    "df.place_type.isna().sum() # Should be 0"
   ],
   "metadata": {
    "collapsed": false
   }
  },
  {
   "cell_type": "code",
   "execution_count": 30,
   "outputs": [
    {
     "data": {
      "text/plain": "place_name                           mun_name_within       \nGustavo A. Madero                    Tlalnepantla de Baz       44519\nÁlvaro Obregón                       La Magdalena Contreras    40362\nTijuana                              Playas de Rosarito        29530\nTorreón                              Viesca                    25044\nChihuahua                            Aldama                    20677\n                                                               ...  \nPlaya Bonfil                         NaN                           1\nPlaya De Las Gaviotas                NaN                           1\nPlaya De Tuxpan                      NaN                           1\nPlaya Del Carmen Eats & Drinks       NaN                           1\nParque Nacional Lagunas De Chacahua  NaN                           1\nLength: 382, dtype: int64"
     },
     "execution_count": 30,
     "metadata": {},
     "output_type": "execute_result"
    }
   ],
   "source": [
    "# Check consistency of within matches\n",
    "df[\"within_success\"] = (df[\"mun_name_within\"] == df[\"place_name\"]) | (df[\"place_type\"] != \"city\") & (df[\"mun_name_within\"].notna())\n",
    "df.loc[df[\"within_success\"] == False, [\"place_name\", \"mun_name_within\"]].value_counts(dropna=False)\n"
   ],
   "metadata": {
    "collapsed": false
   }
  },
  {
   "cell_type": "code",
   "execution_count": 31,
   "outputs": [
    {
     "data": {
      "text/plain": "place_name                              mun_name_nearest                          mun_name_within                         \nTlaquepaque                             San Pedro Tlaquepaque                     San Pedro Tlaquepaque                       9915\nGuaymas                                 Empalme                                   NaN                                         6048\nSilao                                   Silao de la Victoria                      Silao de la Victoria                        1598\nJosé Azueta                             Zihuatanejo de Azueta                     Zihuatanejo de Azueta                       1409\nSan Pedro Mixtepec-Distrito 22          San Pedro Mixtepec -Dto. 22 -             San Pedro Mixtepec -Dto. 22 -                722\nTeoloyucán                              Teoloyucan                                Teoloyucan                                   651\nChampotón                               Tenabo                                    NaN                                          609\nCarmen                                  El Carmen                                 El Carmen                                    476\nTemapache                               Álamo Temapache                           Álamo Temapache                              414\nJuchitán de Zaragoza                    Heroica Ciudad de Juchitán de Zaragoza    Heroica Ciudad de Juchitán de Zaragoza       323\nZacatepec de Hidalgo                    Zacatepec                                 Zacatepec                                    225\nYauhquemecan                            Yauhquemehcan                             Yauhquemehcan                                190\nTlaltizapán                             Tlaltizapán de Zapata                     Tlaltizapán de Zapata                        180\nAcambay                                 Acambay de Ruíz Castañeda                 Acambay de Ruíz Castañeda                    140\nAltzayanca                              Atltzayanca                               Atltzayanca                                   48\nAxapusco                                Nopaltepec                                Nopaltepec                                    40\nCazones                                 Cazones de Herrera                        Cazones de Herrera                            35\nHuiloapan                               Huiloapan de Cuauhtémoc                   Huiloapan de Cuauhtémoc                       19\nTeul de González Ortega                 Teúl de González Ortega                   Teúl de González Ortega                       14\nZitlaltepec de Trinidad Sánchez Santos  Ziltlaltépec de Trinidad Sánchez Santos   Ziltlaltépec de Trinidad Sánchez Santos       10\nSan José del Rincon                     San José del Rincón                       San José del Rincón                            9\nDoctor Belisario                        Dr. Belisario Domínguez                   Dr. Belisario Domínguez                        7\nTezoatlán de Segura y Luna              Heroica Villa Tezoatlán de Segura y Luna  Heroica Villa Tezoatlán de Segura y Luna       5\nSan Damián Texoloc                      San Damián Texóloc                        San Damián Texóloc                             4\nSan Pedro Totolapa                      San Pedro Totolápam                       San Pedro Totolápam                            2\nZacualpan de Amilpas                    Zacualpan                                 Zacualpan                                      2\nSan Bartolomé Quialan                   San Bartolomé Quialana                    San Bartolomé Quialana                         1\nMarqués de Comíllas                     Marqués de Comillas                       Marqués de Comillas                            1\ndtype: int64"
     },
     "execution_count": 31,
     "metadata": {},
     "output_type": "execute_result"
    }
   ],
   "source": [
    "# Check consistency of nearest matches\n",
    "df[\"nearest_success\"] = (((df[\"mun_name_nearest\"] == df[\"place_name\"]) & (df[\"place_type\"] == \"city\")) |\n",
    "                         (df[\"mun_name_within\"].isna()) & (df[\"place_type\"] != \"city\"))\n",
    "df[\"success\"] = df[\"within_success\"] | df[\"nearest_success\"]\n",
    "df.loc[df[\"success\"] == False,\n",
    "       [\"place_name\", \"mun_name_nearest\", \"mun_name_within\"]].value_counts(dropna=False)\n"
   ],
   "metadata": {
    "collapsed": false
   }
  },
  {
   "cell_type": "code",
   "execution_count": 32,
   "outputs": [
    {
     "data": {
      "text/plain": "place_name                              mun_name_nearest                          mun_name_within                           state_id_nearest                 state_id_within                \nTlaquepaque                             San Pedro Tlaquepaque                     San Pedro Tlaquepaque                     Jalisco                          Jalisco                            9915\nSilao                                   Silao de la Victoria                      Silao de la Victoria                      Guanajuato                       Guanajuato                         1598\nJosé Azueta                             Zihuatanejo de Azueta                     Zihuatanejo de Azueta                     Guerrero                         Guerrero                           1409\nSan Pedro Mixtepec-Distrito 22          San Pedro Mixtepec -Dto. 22 -             San Pedro Mixtepec -Dto. 22 -             Oaxaca                           Oaxaca                              722\nTeoloyucán                              Teoloyucan                                Teoloyucan                                México                           México                              651\nCarmen                                  El Carmen                                 El Carmen                                 Nuevo León                       Nuevo León                          476\nTemapache                               Álamo Temapache                           Álamo Temapache                           Veracruz de Ignacio de la Llave  Veracruz de Ignacio de la Llave     414\nJuchitán de Zaragoza                    Heroica Ciudad de Juchitán de Zaragoza    Heroica Ciudad de Juchitán de Zaragoza    Oaxaca                           Oaxaca                              323\nZacatepec de Hidalgo                    Zacatepec                                 Zacatepec                                 Morelos                          Morelos                             225\nYauhquemecan                            Yauhquemehcan                             Yauhquemehcan                             Tlaxcala                         Tlaxcala                            190\nTlaltizapán                             Tlaltizapán de Zapata                     Tlaltizapán de Zapata                     Morelos                          Morelos                             180\nAcambay                                 Acambay de Ruíz Castañeda                 Acambay de Ruíz Castañeda                 México                           México                              140\nAltzayanca                              Atltzayanca                               Atltzayanca                               Tlaxcala                         Tlaxcala                             48\nAxapusco                                Nopaltepec                                Nopaltepec                                México                           México                               40\nCazones                                 Cazones de Herrera                        Cazones de Herrera                        Veracruz de Ignacio de la Llave  Veracruz de Ignacio de la Llave      35\nHuiloapan                               Huiloapan de Cuauhtémoc                   Huiloapan de Cuauhtémoc                   Veracruz de Ignacio de la Llave  Veracruz de Ignacio de la Llave      19\nTeul de González Ortega                 Teúl de González Ortega                   Teúl de González Ortega                   Zacatecas                        Zacatecas                            14\nZitlaltepec de Trinidad Sánchez Santos  Ziltlaltépec de Trinidad Sánchez Santos   Ziltlaltépec de Trinidad Sánchez Santos   Tlaxcala                         Tlaxcala                             10\nSan José del Rincon                     San José del Rincón                       San José del Rincón                       México                           México                                9\nDoctor Belisario                        Dr. Belisario Domínguez                   Dr. Belisario Domínguez                   Chihuahua                        Chihuahua                             7\nTezoatlán de Segura y Luna              Heroica Villa Tezoatlán de Segura y Luna  Heroica Villa Tezoatlán de Segura y Luna  Oaxaca                           Oaxaca                                5\nSan Damián Texoloc                      San Damián Texóloc                        San Damián Texóloc                        Tlaxcala                         Tlaxcala                              4\nSan Pedro Totolapa                      San Pedro Totolápam                       San Pedro Totolápam                       Oaxaca                           Oaxaca                                2\nZacualpan de Amilpas                    Zacualpan                                 Zacualpan                                 Morelos                          Morelos                               2\nSan Bartolomé Quialan                   San Bartolomé Quialana                    San Bartolomé Quialana                    Oaxaca                           Oaxaca                                1\nMarqués de Comíllas                     Marqués de Comillas                       Marqués de Comillas                       Chiapas                          Chiapas                               1\ndtype: int64"
     },
     "execution_count": 32,
     "metadata": {},
     "output_type": "execute_result"
    }
   ],
   "source": [
    "# Check if inconsistent but within and nearest select same municipality\n",
    "df.loc[(df[\"success\"] == False) & (df[\"mun_name_within\"]==df[\"mun_name_nearest\"]),\n",
    "       [\"place_name\",  \"mun_name_nearest\", \"mun_name_within\",\n",
    "        \"state_id_nearest\", \"state_id_within\"]].value_counts(dropna=False)\n"
   ],
   "metadata": {
    "collapsed": false
   }
  },
  {
   "cell_type": "code",
   "execution_count": 33,
   "outputs": [
    {
     "data": {
      "text/plain": "place_name  mun_name_nearest  mun_name_within\nGuaymas     Empalme           NaN                6048\nChampotón   Tenabo            NaN                 609\ndtype: int64"
     },
     "execution_count": 33,
     "metadata": {},
     "output_type": "execute_result"
    }
   ],
   "source": [
    "# Check if inconsistent and within and nearest select different municipality\n",
    "df.loc[(df[\"success\"] == False) & (df[\"mun_name_within\"]!=df[\"mun_name_nearest\"]),\n",
    "       [\"place_name\", \"mun_name_nearest\", \"mun_name_within\"]].value_counts(dropna=False)\n"
   ],
   "metadata": {
    "collapsed": false
   }
  },
  {
   "cell_type": "code",
   "execution_count": 34,
   "outputs": [],
   "source": [
    "# Generate final merge ID and name\n",
    "df[\"GEOID\"] = df.apply(lambda x:\n",
    "                       x[\"mun_id_within\"] if x[\"within_success\"] == True\n",
    "                       else (x[\"mun_id_nearest\"] if x[\"nearest_success\"] == True\n",
    "                       else (x[\"mun_id_nearest\"] if x[\"mun_id_nearest\"] == x[\"mun_id_within\"]\n",
    "                             else np.nan)),\n",
    "                       axis=1)\n",
    "\n",
    "df[\"NAME\"] = df.apply(lambda x:\n",
    "                       x[\"mun_name_within\"] if x[\"within_success\"] == True\n",
    "                       else (x[\"mun_name_nearest\"] if x[\"nearest_success\"] == True\n",
    "                       else (x[\"mun_name_nearest\"] if (x[\"mun_id_nearest\"] == x[\"mun_id_within\"])\n",
    "                             else np.nan)),\n",
    "                       axis=1)\n",
    "\n"
   ],
   "metadata": {
    "collapsed": false
   }
  },
  {
   "cell_type": "code",
   "execution_count": 35,
   "outputs": [
    {
     "data": {
      "text/plain": "GEOID  mun_name_within  mun_name_nearest\nNaN    NaN              Empalme             6048\n                        Tenabo               609\ndtype: int64"
     },
     "execution_count": 35,
     "metadata": {},
     "output_type": "execute_result"
    }
   ],
   "source": [
    "# Inspect cases that were not merged\n",
    "df.loc[df[\"GEOID\"].isna(), [\"GEOID\", \"mun_name_within\", \"mun_name_nearest\"]].value_counts(dropna=False)"
   ],
   "metadata": {
    "collapsed": false
   }
  },
  {
   "cell_type": "code",
   "execution_count": 36,
   "outputs": [],
   "source": [
    "# Merge over name (and state) if not merged\n",
    "df = df.merge(muns[[\"NAME\", \"ADM1_ES\", \"GEOID\"]].rename({\"NAME\": \"mun_name_merge\",\n",
    "                                                   \"GEOID\": \"mun_id_merge\"}, axis=1),\n",
    "                                  how=\"left\", left_on = [\"place_name\", \"state_id_nearest\"],\n",
    "                                  right_on= [\"mun_name_merge\", \"ADM1_ES\"]).drop(\"ADM1_ES\", axis=1)\n"
   ],
   "metadata": {
    "collapsed": false
   }
  },
  {
   "cell_type": "code",
   "execution_count": 37,
   "outputs": [],
   "source": [
    "# Fill missings with merged IDs\n",
    "df.loc[df[\"GEOID\"].isna(), \"GEOID\"] = df.loc[df[\"GEOID\"].isna(), \"mun_id_merge\"]\n",
    "df.loc[df[\"GEOID\"].isna(), \"NAME\"] = df.loc[df[\"GEOID\"].isna(), \"mun_name_merge\"]"
   ],
   "metadata": {
    "collapsed": false
   }
  },
  {
   "cell_type": "code",
   "execution_count": 38,
   "outputs": [
    {
     "name": "stdout",
     "output_type": "stream",
     "text": [
      "187    MX15016\n",
      "Name: GEOID, dtype: object\n"
     ]
    }
   ],
   "source": [
    "# Manually correct wrongly assigned cases:\n",
    "print(muns.loc[muns[\"NAME\"] == \"Axapusco\", \"GEOID\"])\n",
    "\n",
    "df.loc[(df[\"place_name\"] ==\"Axapusco\") & (df[\"success\"] == False), \"NAME\"] = \"Axapusco\"\n",
    "df.loc[(df[\"place_name\"] ==\"Axapusco\") &\n",
    "       (df[\"success\"] == False), \"GEOID\"] = \"MX15016\""
   ],
   "metadata": {
    "collapsed": false
   }
  },
  {
   "cell_type": "code",
   "execution_count": 39,
   "outputs": [
    {
     "data": {
      "text/plain": "0"
     },
     "execution_count": 39,
     "metadata": {},
     "output_type": "execute_result"
    }
   ],
   "source": [
    "df[\"GEOID\"].isna().sum() # Should be 0\n"
   ],
   "metadata": {
    "collapsed": false
   }
  },
  {
   "cell_type": "code",
   "execution_count": 40,
   "outputs": [
    {
     "data": {
      "text/plain": "Index(['id', 'created_at', 'tweet', 'user_id', 'user_followers',\n       'user_friends', 'user_statuses', 'user_verified', 'user_description',\n       'user_created_at', 'place_type', 'place_name', 'bounding_box',\n       'is_quote_status', 'source', 'approx_coords', 'long', 'lat', 'geometry',\n       'GEOID', 'NAME'],\n      dtype='object')"
     },
     "execution_count": 40,
     "metadata": {},
     "output_type": "execute_result"
    }
   ],
   "source": [
    "df.drop(df.loc[:,\"mun_id_within\":\"success\"], axis=1, inplace=True)\n",
    "df.drop(df.loc[:,[\"mun_name_merge\", \"mun_id_merge\", \"coordinates\", \"best_coords\"]], axis=1, inplace=True)\n",
    "df.columns"
   ],
   "metadata": {
    "collapsed": false
   }
  },
  {
   "cell_type": "code",
   "execution_count": 41,
   "outputs": [
    {
     "name": "stdout",
     "output_type": "stream",
     "text": [
      "1258\n"
     ]
    },
    {
     "data": {
      "text/plain": "                          id                      created_at  \\\n497280   1431274053462016000  Fri Aug 27 15:15:00 +0000 2021   \n497282   1431274053462016000  Fri Aug 27 15:15:00 +0000 2021   \n692104   1428374119859593221  Thu Aug 19 15:11:42 +0000 2021   \n692105   1428374119859593221  Thu Aug 19 15:11:42 +0000 2021   \n692106   1428374119859593221  Thu Aug 19 15:11:42 +0000 2021   \n1487821  1427291502682640388  Mon Aug 16 15:29:46 +0000 2021   \n\n                                                                                                       tweet  \\\n497280                                                  M A M E S! 😶\\nOjalá todas las pilotos estén bien.\\n🥺   \n497282                                                  M A M E S! 😶\\nOjalá todas las pilotos estén bien.\\n🥺   \n692104   ¡Malos días! Amaneci enojado por culpa de las pendejas chivititas, quw además de frustrarme por ...   \n692105   ¡Malos días! Amaneci enojado por culpa de las pendejas chivititas, quw además de frustrarme por ...   \n692106   ¡Malos días! Amaneci enojado por culpa de las pendejas chivititas, quw además de frustrarme por ...   \n1487821                                            @KarlaGzz98 @dianamrls99 Se me acaba de caer un ídolo u.u   \n\n                     user_id  user_followers  user_friends  user_statuses  \\\n497280             100034845            1316          1906          53640   \n497282             100034845            1316          1906          53640   \n692104   1002350288538349568             265           422           5162   \n692105   1002350288538349568             265           422           5162   \n692106   1002350288538349568             265           422           5162   \n1487821  1006751629205389312              52           245           3424   \n\n         user_verified  \\\n497280           False   \n497282           False   \n692104           False   \n692105           False   \n692106           False   \n1487821          False   \n\n                                                                                     user_description  \\\n497280                                               Un iluso más que sueña que ya no le debe al SAT.   \n497282                                               Un iluso más que sueña que ya no le debe al SAT.   \n692104   Lo bueno no es tener poder, sino tener el teléfono de quién lo tiene..😼\\n\\n🇲🇽🇺🇸🇨🇱🇩🇴🇨🇦🇫🇷🇦🇪🇨🇴🔜   \n692105   Lo bueno no es tener poder, sino tener el teléfono de quién lo tiene..😼\\n\\n🇲🇽🇺🇸🇨🇱🇩🇴🇨🇦🇫🇷🇦🇪🇨🇴🔜   \n692106   Lo bueno no es tener poder, sino tener el teléfono de quién lo tiene..😼\\n\\n🇲🇽🇺🇸🇨🇱🇩🇴🇨🇦🇫🇷🇦🇪🇨🇴🔜   \n1487821                                                                  22🌚// \"Decidir es renunciar\"   \n\n                        user_created_at  ...  \\\n497280   Mon Dec 28 20:04:28 +0000 2009  ...   \n497282   Mon Dec 28 20:04:28 +0000 2009  ...   \n692104   Fri Jun 01 00:45:06 +0000 2018  ...   \n692105   Fri Jun 01 00:45:06 +0000 2018  ...   \n692106   Fri Jun 01 00:45:06 +0000 2018  ...   \n1487821  Wed Jun 13 04:14:27 +0000 2018  ...   \n\n                                                                                                bounding_box  \\\n497280   [[-99.259495, 19.386371], [-99.259495, 19.473498], [-99.163526, 19.473498], [-99.163526, 19.3863...   \n497282   [[-99.259495, 19.386371], [-99.259495, 19.473498], [-99.163526, 19.473498], [-99.163526, 19.3863...   \n692104   [[-103.408633, 20.600585], [-103.408633, 20.752719], [-103.263131, 20.752719], [-103.263131, 20....   \n692105   [[-103.408633, 20.600585], [-103.408633, 20.752719], [-103.263131, 20.752719], [-103.263131, 20....   \n692106   [[-103.408633, 20.600585], [-103.408633, 20.752719], [-103.263131, 20.752719], [-103.263131, 20....   \n1487821  [[-100.421037, 25.480538], [-100.421037, 25.802899], [-100.166146, 25.802899], [-100.166146, 25....   \n\n        is_quote_status  \\\n497280             True   \n497282             True   \n692104            False   \n692105            False   \n692106            False   \n1487821           False   \n\n                                                                                       source  \\\n497280     <a href=\"http://twitter.com/download/iphone\" rel=\"nofollow\">Twitter for iPhone</a>   \n497282     <a href=\"http://twitter.com/download/iphone\" rel=\"nofollow\">Twitter for iPhone</a>   \n692104   <a href=\"http://twitter.com/download/android\" rel=\"nofollow\">Twitter for Android</a>   \n692105   <a href=\"http://twitter.com/download/android\" rel=\"nofollow\">Twitter for Android</a>   \n692106   <a href=\"http://twitter.com/download/android\" rel=\"nofollow\">Twitter for Android</a>   \n1487821  <a href=\"http://twitter.com/download/android\" rel=\"nofollow\">Twitter for Android</a>   \n\n                             approx_coords        long        lat  \\\n497280           [-99.2115105, 19.4299345]  -99.211511  19.429935   \n497282           [-99.2115105, 19.4299345]  -99.211511  19.429935   \n692104   [-103.335882, 20.676651999999997] -103.335882  20.676652   \n692105   [-103.335882, 20.676651999999997] -103.335882  20.676652   \n692106   [-103.335882, 20.676651999999997] -103.335882  20.676652   \n1487821  [-100.29359149999999, 25.6417185] -100.293591  25.641718   \n\n                                geometry    GEOID            NAME dupl_id  \n497280   POINT (-348486.851 -379362.716)  MX09016  Miguel Hidalgo    True  \n497282   POINT (-348486.851 -379362.716)  MX09016  Miguel Hidalgo    True  \n692104   POINT (-785065.225 -221037.261)  MX14039     Guadalajara    True  \n692105   POINT (-785065.225 -221037.261)  MX14039     Guadalajara    True  \n692106   POINT (-785065.225 -221037.261)  MX14039     Guadalajara    True  \n1487821   POINT (-435408.715 298257.716)  MX19039       Monterrey    True  \n\n[6 rows x 22 columns]",
      "text/html": "<div>\n<style scoped>\n    .dataframe tbody tr th:only-of-type {\n        vertical-align: middle;\n    }\n\n    .dataframe tbody tr th {\n        vertical-align: top;\n    }\n\n    .dataframe thead th {\n        text-align: right;\n    }\n</style>\n<table border=\"1\" class=\"dataframe\">\n  <thead>\n    <tr style=\"text-align: right;\">\n      <th></th>\n      <th>id</th>\n      <th>created_at</th>\n      <th>tweet</th>\n      <th>user_id</th>\n      <th>user_followers</th>\n      <th>user_friends</th>\n      <th>user_statuses</th>\n      <th>user_verified</th>\n      <th>user_description</th>\n      <th>user_created_at</th>\n      <th>...</th>\n      <th>bounding_box</th>\n      <th>is_quote_status</th>\n      <th>source</th>\n      <th>approx_coords</th>\n      <th>long</th>\n      <th>lat</th>\n      <th>geometry</th>\n      <th>GEOID</th>\n      <th>NAME</th>\n      <th>dupl_id</th>\n    </tr>\n  </thead>\n  <tbody>\n    <tr>\n      <th>497280</th>\n      <td>1431274053462016000</td>\n      <td>Fri Aug 27 15:15:00 +0000 2021</td>\n      <td>M A M E S! 😶\\nOjalá todas las pilotos estén bien.\\n🥺</td>\n      <td>100034845</td>\n      <td>1316</td>\n      <td>1906</td>\n      <td>53640</td>\n      <td>False</td>\n      <td>Un iluso más que sueña que ya no le debe al SAT.</td>\n      <td>Mon Dec 28 20:04:28 +0000 2009</td>\n      <td>...</td>\n      <td>[[-99.259495, 19.386371], [-99.259495, 19.473498], [-99.163526, 19.473498], [-99.163526, 19.3863...</td>\n      <td>True</td>\n      <td>&lt;a href=\"http://twitter.com/download/iphone\" rel=\"nofollow\"&gt;Twitter for iPhone&lt;/a&gt;</td>\n      <td>[-99.2115105, 19.4299345]</td>\n      <td>-99.211511</td>\n      <td>19.429935</td>\n      <td>POINT (-348486.851 -379362.716)</td>\n      <td>MX09016</td>\n      <td>Miguel Hidalgo</td>\n      <td>True</td>\n    </tr>\n    <tr>\n      <th>497282</th>\n      <td>1431274053462016000</td>\n      <td>Fri Aug 27 15:15:00 +0000 2021</td>\n      <td>M A M E S! 😶\\nOjalá todas las pilotos estén bien.\\n🥺</td>\n      <td>100034845</td>\n      <td>1316</td>\n      <td>1906</td>\n      <td>53640</td>\n      <td>False</td>\n      <td>Un iluso más que sueña que ya no le debe al SAT.</td>\n      <td>Mon Dec 28 20:04:28 +0000 2009</td>\n      <td>...</td>\n      <td>[[-99.259495, 19.386371], [-99.259495, 19.473498], [-99.163526, 19.473498], [-99.163526, 19.3863...</td>\n      <td>True</td>\n      <td>&lt;a href=\"http://twitter.com/download/iphone\" rel=\"nofollow\"&gt;Twitter for iPhone&lt;/a&gt;</td>\n      <td>[-99.2115105, 19.4299345]</td>\n      <td>-99.211511</td>\n      <td>19.429935</td>\n      <td>POINT (-348486.851 -379362.716)</td>\n      <td>MX09016</td>\n      <td>Miguel Hidalgo</td>\n      <td>True</td>\n    </tr>\n    <tr>\n      <th>692104</th>\n      <td>1428374119859593221</td>\n      <td>Thu Aug 19 15:11:42 +0000 2021</td>\n      <td>¡Malos días! Amaneci enojado por culpa de las pendejas chivititas, quw además de frustrarme por ...</td>\n      <td>1002350288538349568</td>\n      <td>265</td>\n      <td>422</td>\n      <td>5162</td>\n      <td>False</td>\n      <td>Lo bueno no es tener poder, sino tener el teléfono de quién lo tiene..😼\\n\\n🇲🇽🇺🇸🇨🇱🇩🇴🇨🇦🇫🇷🇦🇪🇨🇴🔜</td>\n      <td>Fri Jun 01 00:45:06 +0000 2018</td>\n      <td>...</td>\n      <td>[[-103.408633, 20.600585], [-103.408633, 20.752719], [-103.263131, 20.752719], [-103.263131, 20....</td>\n      <td>False</td>\n      <td>&lt;a href=\"http://twitter.com/download/android\" rel=\"nofollow\"&gt;Twitter for Android&lt;/a&gt;</td>\n      <td>[-103.335882, 20.676651999999997]</td>\n      <td>-103.335882</td>\n      <td>20.676652</td>\n      <td>POINT (-785065.225 -221037.261)</td>\n      <td>MX14039</td>\n      <td>Guadalajara</td>\n      <td>True</td>\n    </tr>\n    <tr>\n      <th>692105</th>\n      <td>1428374119859593221</td>\n      <td>Thu Aug 19 15:11:42 +0000 2021</td>\n      <td>¡Malos días! Amaneci enojado por culpa de las pendejas chivititas, quw además de frustrarme por ...</td>\n      <td>1002350288538349568</td>\n      <td>265</td>\n      <td>422</td>\n      <td>5162</td>\n      <td>False</td>\n      <td>Lo bueno no es tener poder, sino tener el teléfono de quién lo tiene..😼\\n\\n🇲🇽🇺🇸🇨🇱🇩🇴🇨🇦🇫🇷🇦🇪🇨🇴🔜</td>\n      <td>Fri Jun 01 00:45:06 +0000 2018</td>\n      <td>...</td>\n      <td>[[-103.408633, 20.600585], [-103.408633, 20.752719], [-103.263131, 20.752719], [-103.263131, 20....</td>\n      <td>False</td>\n      <td>&lt;a href=\"http://twitter.com/download/android\" rel=\"nofollow\"&gt;Twitter for Android&lt;/a&gt;</td>\n      <td>[-103.335882, 20.676651999999997]</td>\n      <td>-103.335882</td>\n      <td>20.676652</td>\n      <td>POINT (-785065.225 -221037.261)</td>\n      <td>MX14039</td>\n      <td>Guadalajara</td>\n      <td>True</td>\n    </tr>\n    <tr>\n      <th>692106</th>\n      <td>1428374119859593221</td>\n      <td>Thu Aug 19 15:11:42 +0000 2021</td>\n      <td>¡Malos días! Amaneci enojado por culpa de las pendejas chivititas, quw además de frustrarme por ...</td>\n      <td>1002350288538349568</td>\n      <td>265</td>\n      <td>422</td>\n      <td>5162</td>\n      <td>False</td>\n      <td>Lo bueno no es tener poder, sino tener el teléfono de quién lo tiene..😼\\n\\n🇲🇽🇺🇸🇨🇱🇩🇴🇨🇦🇫🇷🇦🇪🇨🇴🔜</td>\n      <td>Fri Jun 01 00:45:06 +0000 2018</td>\n      <td>...</td>\n      <td>[[-103.408633, 20.600585], [-103.408633, 20.752719], [-103.263131, 20.752719], [-103.263131, 20....</td>\n      <td>False</td>\n      <td>&lt;a href=\"http://twitter.com/download/android\" rel=\"nofollow\"&gt;Twitter for Android&lt;/a&gt;</td>\n      <td>[-103.335882, 20.676651999999997]</td>\n      <td>-103.335882</td>\n      <td>20.676652</td>\n      <td>POINT (-785065.225 -221037.261)</td>\n      <td>MX14039</td>\n      <td>Guadalajara</td>\n      <td>True</td>\n    </tr>\n    <tr>\n      <th>1487821</th>\n      <td>1427291502682640388</td>\n      <td>Mon Aug 16 15:29:46 +0000 2021</td>\n      <td>@KarlaGzz98 @dianamrls99 Se me acaba de caer un ídolo u.u</td>\n      <td>1006751629205389312</td>\n      <td>52</td>\n      <td>245</td>\n      <td>3424</td>\n      <td>False</td>\n      <td>22🌚// \"Decidir es renunciar\"</td>\n      <td>Wed Jun 13 04:14:27 +0000 2018</td>\n      <td>...</td>\n      <td>[[-100.421037, 25.480538], [-100.421037, 25.802899], [-100.166146, 25.802899], [-100.166146, 25....</td>\n      <td>False</td>\n      <td>&lt;a href=\"http://twitter.com/download/android\" rel=\"nofollow\"&gt;Twitter for Android&lt;/a&gt;</td>\n      <td>[-100.29359149999999, 25.6417185]</td>\n      <td>-100.293591</td>\n      <td>25.641718</td>\n      <td>POINT (-435408.715 298257.716)</td>\n      <td>MX19039</td>\n      <td>Monterrey</td>\n      <td>True</td>\n    </tr>\n  </tbody>\n</table>\n<p>6 rows × 22 columns</p>\n</div>"
     },
     "execution_count": 41,
     "metadata": {},
     "output_type": "execute_result"
    }
   ],
   "source": [
    "# Inspect duplicates\n",
    "df[\"dupl_id\"] = df.duplicated(subset='id', keep=False)\n",
    "print(df.dupl_id.sum())\n",
    "dupls = df[df[\"dupl_id\"]].sort_values(by=[\"user_id\", \"id\"])\n",
    "dupls.head(6)"
   ],
   "metadata": {
    "collapsed": false
   }
  },
  {
   "cell_type": "code",
   "execution_count": 42,
   "outputs": [
    {
     "name": "stdout",
     "output_type": "stream",
     "text": [
      "2752408\n",
      "2751705\n"
     ]
    }
   ],
   "source": [
    "# Drop duplicates\n",
    "print(len(df))\n",
    "df.drop_duplicates(subset='id', keep='first', inplace=True)\n",
    "df.drop([\"dupl_id\"], axis=1, inplace=True )\n",
    "print(len(df))\n"
   ],
   "metadata": {
    "collapsed": false
   }
  },
  {
   "cell_type": "markdown",
   "source": [
    "## 3. Exlude bots\n"
   ],
   "metadata": {
    "collapsed": false
   }
  },
  {
   "cell_type": "markdown",
   "source": [
    "### 3.1 Inspect source of tweets"
   ],
   "metadata": {
    "collapsed": false
   }
  },
  {
   "cell_type": "code",
   "execution_count": 43,
   "outputs": [
    {
     "data": {
      "text/plain": "<a href=\"http://twitter.com/download/android\" rel=\"nofollow\">Twitter for Android</a>                     1720860\n<a href=\"http://twitter.com/download/iphone\" rel=\"nofollow\">Twitter for iPhone</a>                        887757\n<a href=\"http://instagram.com\" rel=\"nofollow\">Instagram</a>                                               116650\n<a href=\"http://foursquare.com\" rel=\"nofollow\">Foursquare</a>                                              11234\n<a href=\"http://twitter.com/#!/download/ipad\" rel=\"nofollow\">Twitter for iPad</a>                           6544\n<a href=\"http://www.elsiglodetorreon.com.mx/\" rel=\"nofollow\">El Siglo</a>                                   3249\n<a href=\"http://tapbots.com/tweetbot\" rel=\"nofollow\">Tweetbot for iΟS</a>                                   1152\n<a href=\"https://www.swarmapp.com\" rel=\"nofollow\">Foursquare Swarm</a>                                      1126\n<a href=\"http://www.siglo.mx\" rel=\"nofollow\">Siglo Coahuila</a>                                              943\n<a href=\"http://itunes.apple.com/us/app/twitter/id409789998?mt=12\" rel=\"nofollow\">Twitter for Mac</a>        598\nName: source, dtype: int64"
     },
     "execution_count": 43,
     "metadata": {},
     "output_type": "execute_result"
    }
   ],
   "source": [
    "df.source.value_counts().head(10)"
   ],
   "metadata": {
    "collapsed": false
   }
  },
  {
   "cell_type": "code",
   "execution_count": 44,
   "outputs": [
    {
     "data": {
      "text/plain": "                     id                      created_at  \\\n7   1421636804302852097  Sun Aug 01 01:00:01 +0000 2021   \n11  1421817009269100556  Sun Aug 01 12:56:05 +0000 2021   \n16  1421851929437691909  Sun Aug 01 15:14:51 +0000 2021   \n22  1421880598507970567  Sun Aug 01 17:08:46 +0000 2021   \n31  1410672275762946061  Thu Jul 01 18:50:54 +0000 2021   \n\n                                                                                                  tweet  \\\n7                              Acaba de publicar una foto en Ixtapa Zihuatanejo https://t.co/48HLKFBBD1   \n11            Amaneciendo en Agosto. Que hermoso día 🙂 en Zihuatanejo, Guerrero https://t.co/LZcCHhUNPs   \n16                         El paisaje celebrante.\\n🤩🌴🍸🍹🌞🎉🎊 en Las Brisas Ixtapa https://t.co/RFsxN6Q64l   \n22  Nutrición, claro que sí, arrancando el mes con salud. Y tomando vitaminas para conservarla.\\n\\n#...   \n31                                      Desde lo alto. en Zihuatanejo, Guerrero https://t.co/RJXwH8gCxl   \n\n       user_id  user_followers  user_friends  user_statuses  user_verified  \\\n7   2605305287             327           285           6739          False   \n11   474255835              47            47            458          False   \n16   588764504             272           111          16323          False   \n22   474255835              47            47            459          False   \n31   170180207             137           195            494          False   \n\n                                                                                       user_description  \\\n7                                               If the hurt comes, so will the happiness... be patient.   \n11                                                                                            freeowner   \n16  ZURDO,TURISTÒLOGO, AMANTE DE LA HISTORIA Y LA MÚSICA, ALEGRE, GOURMAND, VIAJERO, DICHARACHERO, R...   \n22                                                                                            freeowner   \n31                                                                                     Por todos lados.   \n\n                   user_created_at  ... place_name  \\\n7   Fri Jun 13 03:19:02 +0000 2014  ...        NaN   \n11  Wed Jan 25 20:20:38 +0000 2012  ...        NaN   \n16  Thu May 24 02:39:05 +0000 2012  ...        NaN   \n22  Wed Jan 25 20:20:38 +0000 2012  ...        NaN   \n31  Sat Jul 24 03:53:38 +0000 2010  ...        NaN   \n\n                                                                                           bounding_box  \\\n7   [[-101.714639, 17.540426], [-101.714639, 18.060683], [-101.199391, 18.060683], [-101.199391, 17....   \n11  [[-101.714639, 17.540426], [-101.714639, 18.060683], [-101.199391, 18.060683], [-101.199391, 17....   \n16  [[-101.714639, 17.540426], [-101.714639, 18.060683], [-101.199391, 18.060683], [-101.199391, 17....   \n22  [[-101.714639, 17.540426], [-101.714639, 18.060683], [-101.199391, 18.060683], [-101.199391, 17....   \n31  [[-101.714639, 17.540426], [-101.714639, 18.060683], [-101.199391, 18.060683], [-101.199391, 17....   \n\n   is_quote_status  \\\n7            False   \n11           False   \n16           False   \n22           False   \n31           False   \n\n                                                         source  \\\n7   <a href=\"http://instagram.com\" rel=\"nofollow\">Instagram</a>   \n11  <a href=\"http://instagram.com\" rel=\"nofollow\">Instagram</a>   \n16  <a href=\"http://instagram.com\" rel=\"nofollow\">Instagram</a>   \n22  <a href=\"http://instagram.com\" rel=\"nofollow\">Instagram</a>   \n31  <a href=\"http://instagram.com\" rel=\"nofollow\">Instagram</a>   \n\n                        approx_coords        long        lat  \\\n7   [-101.45701500000001, 17.8005545] -101.601130  17.661840   \n11  [-101.45701500000001, 17.8005545] -101.553603  17.642359   \n16  [-101.45701500000001, 17.8005545] -101.596853  17.648313   \n22  [-101.45701500000001, 17.8005545] -101.553603  17.642359   \n31  [-101.45701500000001, 17.8005545] -101.553603  17.642359   \n\n                           geometry    GEOID                   NAME  \n7   POINT (-618664.257 -555652.693)  MX12038  Zihuatanejo de Azueta  \n11  POINT (-613541.631 -558027.161)  MX12038  Zihuatanejo de Azueta  \n16  POINT (-618276.970 -557115.373)  MX12038  Zihuatanejo de Azueta  \n22  POINT (-613541.631 -558027.161)  MX12038  Zihuatanejo de Azueta  \n31  POINT (-613541.631 -558027.161)  MX12038  Zihuatanejo de Azueta  \n\n[5 rows x 21 columns]",
      "text/html": "<div>\n<style scoped>\n    .dataframe tbody tr th:only-of-type {\n        vertical-align: middle;\n    }\n\n    .dataframe tbody tr th {\n        vertical-align: top;\n    }\n\n    .dataframe thead th {\n        text-align: right;\n    }\n</style>\n<table border=\"1\" class=\"dataframe\">\n  <thead>\n    <tr style=\"text-align: right;\">\n      <th></th>\n      <th>id</th>\n      <th>created_at</th>\n      <th>tweet</th>\n      <th>user_id</th>\n      <th>user_followers</th>\n      <th>user_friends</th>\n      <th>user_statuses</th>\n      <th>user_verified</th>\n      <th>user_description</th>\n      <th>user_created_at</th>\n      <th>...</th>\n      <th>place_name</th>\n      <th>bounding_box</th>\n      <th>is_quote_status</th>\n      <th>source</th>\n      <th>approx_coords</th>\n      <th>long</th>\n      <th>lat</th>\n      <th>geometry</th>\n      <th>GEOID</th>\n      <th>NAME</th>\n    </tr>\n  </thead>\n  <tbody>\n    <tr>\n      <th>7</th>\n      <td>1421636804302852097</td>\n      <td>Sun Aug 01 01:00:01 +0000 2021</td>\n      <td>Acaba de publicar una foto en Ixtapa Zihuatanejo https://t.co/48HLKFBBD1</td>\n      <td>2605305287</td>\n      <td>327</td>\n      <td>285</td>\n      <td>6739</td>\n      <td>False</td>\n      <td>If the hurt comes, so will the happiness... be patient.</td>\n      <td>Fri Jun 13 03:19:02 +0000 2014</td>\n      <td>...</td>\n      <td>NaN</td>\n      <td>[[-101.714639, 17.540426], [-101.714639, 18.060683], [-101.199391, 18.060683], [-101.199391, 17....</td>\n      <td>False</td>\n      <td>&lt;a href=\"http://instagram.com\" rel=\"nofollow\"&gt;Instagram&lt;/a&gt;</td>\n      <td>[-101.45701500000001, 17.8005545]</td>\n      <td>-101.601130</td>\n      <td>17.661840</td>\n      <td>POINT (-618664.257 -555652.693)</td>\n      <td>MX12038</td>\n      <td>Zihuatanejo de Azueta</td>\n    </tr>\n    <tr>\n      <th>11</th>\n      <td>1421817009269100556</td>\n      <td>Sun Aug 01 12:56:05 +0000 2021</td>\n      <td>Amaneciendo en Agosto. Que hermoso día 🙂 en Zihuatanejo, Guerrero https://t.co/LZcCHhUNPs</td>\n      <td>474255835</td>\n      <td>47</td>\n      <td>47</td>\n      <td>458</td>\n      <td>False</td>\n      <td>freeowner</td>\n      <td>Wed Jan 25 20:20:38 +0000 2012</td>\n      <td>...</td>\n      <td>NaN</td>\n      <td>[[-101.714639, 17.540426], [-101.714639, 18.060683], [-101.199391, 18.060683], [-101.199391, 17....</td>\n      <td>False</td>\n      <td>&lt;a href=\"http://instagram.com\" rel=\"nofollow\"&gt;Instagram&lt;/a&gt;</td>\n      <td>[-101.45701500000001, 17.8005545]</td>\n      <td>-101.553603</td>\n      <td>17.642359</td>\n      <td>POINT (-613541.631 -558027.161)</td>\n      <td>MX12038</td>\n      <td>Zihuatanejo de Azueta</td>\n    </tr>\n    <tr>\n      <th>16</th>\n      <td>1421851929437691909</td>\n      <td>Sun Aug 01 15:14:51 +0000 2021</td>\n      <td>El paisaje celebrante.\\n🤩🌴🍸🍹🌞🎉🎊 en Las Brisas Ixtapa https://t.co/RFsxN6Q64l</td>\n      <td>588764504</td>\n      <td>272</td>\n      <td>111</td>\n      <td>16323</td>\n      <td>False</td>\n      <td>ZURDO,TURISTÒLOGO, AMANTE DE LA HISTORIA Y LA MÚSICA, ALEGRE, GOURMAND, VIAJERO, DICHARACHERO, R...</td>\n      <td>Thu May 24 02:39:05 +0000 2012</td>\n      <td>...</td>\n      <td>NaN</td>\n      <td>[[-101.714639, 17.540426], [-101.714639, 18.060683], [-101.199391, 18.060683], [-101.199391, 17....</td>\n      <td>False</td>\n      <td>&lt;a href=\"http://instagram.com\" rel=\"nofollow\"&gt;Instagram&lt;/a&gt;</td>\n      <td>[-101.45701500000001, 17.8005545]</td>\n      <td>-101.596853</td>\n      <td>17.648313</td>\n      <td>POINT (-618276.970 -557115.373)</td>\n      <td>MX12038</td>\n      <td>Zihuatanejo de Azueta</td>\n    </tr>\n    <tr>\n      <th>22</th>\n      <td>1421880598507970567</td>\n      <td>Sun Aug 01 17:08:46 +0000 2021</td>\n      <td>Nutrición, claro que sí, arrancando el mes con salud. Y tomando vitaminas para conservarla.\\n\\n#...</td>\n      <td>474255835</td>\n      <td>47</td>\n      <td>47</td>\n      <td>459</td>\n      <td>False</td>\n      <td>freeowner</td>\n      <td>Wed Jan 25 20:20:38 +0000 2012</td>\n      <td>...</td>\n      <td>NaN</td>\n      <td>[[-101.714639, 17.540426], [-101.714639, 18.060683], [-101.199391, 18.060683], [-101.199391, 17....</td>\n      <td>False</td>\n      <td>&lt;a href=\"http://instagram.com\" rel=\"nofollow\"&gt;Instagram&lt;/a&gt;</td>\n      <td>[-101.45701500000001, 17.8005545]</td>\n      <td>-101.553603</td>\n      <td>17.642359</td>\n      <td>POINT (-613541.631 -558027.161)</td>\n      <td>MX12038</td>\n      <td>Zihuatanejo de Azueta</td>\n    </tr>\n    <tr>\n      <th>31</th>\n      <td>1410672275762946061</td>\n      <td>Thu Jul 01 18:50:54 +0000 2021</td>\n      <td>Desde lo alto. en Zihuatanejo, Guerrero https://t.co/RJXwH8gCxl</td>\n      <td>170180207</td>\n      <td>137</td>\n      <td>195</td>\n      <td>494</td>\n      <td>False</td>\n      <td>Por todos lados.</td>\n      <td>Sat Jul 24 03:53:38 +0000 2010</td>\n      <td>...</td>\n      <td>NaN</td>\n      <td>[[-101.714639, 17.540426], [-101.714639, 18.060683], [-101.199391, 18.060683], [-101.199391, 17....</td>\n      <td>False</td>\n      <td>&lt;a href=\"http://instagram.com\" rel=\"nofollow\"&gt;Instagram&lt;/a&gt;</td>\n      <td>[-101.45701500000001, 17.8005545]</td>\n      <td>-101.553603</td>\n      <td>17.642359</td>\n      <td>POINT (-613541.631 -558027.161)</td>\n      <td>MX12038</td>\n      <td>Zihuatanejo de Azueta</td>\n    </tr>\n  </tbody>\n</table>\n<p>5 rows × 21 columns</p>\n</div>"
     },
     "execution_count": 44,
     "metadata": {},
     "output_type": "execute_result"
    }
   ],
   "source": [
    "# Inspect tweets from instagram\n",
    "df[df.source == \"\"\"<a href=\"http://instagram.com\" rel=\"nofollow\">Instagram</a>\"\"\"].head() # Does not look like bots"
   ],
   "metadata": {
    "collapsed": false
   }
  },
  {
   "cell_type": "code",
   "execution_count": 45,
   "outputs": [
    {
     "data": {
      "text/plain": "                          id                      created_at  \\\n1928481  1411451908737413120  Sat Jul 03 22:28:53 +0000 2021   \n505341   1432536903790776322  Tue Aug 31 02:53:07 +0000 2021   \n2744860  1416776192322064388  Sun Jul 18 15:05:41 +0000 2021   \n1261023  1427639426293829632  Tue Aug 17 14:32:18 +0000 2021   \n1219831  1412549336710451205  Tue Jul 06 23:09:40 +0000 2021   \n764667   1414086754458501122  Sun Jul 11 04:58:49 +0000 2021   \n75637    1427040590856916994  Sun Aug 15 22:52:44 +0000 2021   \n839536   1422020166930550787  Mon Aug 02 02:23:22 +0000 2021   \n559632   1413171609234464768  Thu Jul 08 16:22:21 +0000 2021   \n513029   1432885694117171201  Wed Sep 01 01:59:05 +0000 2021   \n\n                                                                                                       tweet  \\\n1928481                                                        @JLozanoA @LaCronicaDeHoy Para volverse locos   \n505341                                                                                        Jajajajajajaja   \n2744860  Confirmo queda prohibido decir vamos a dar la vuela.\\nFechas Disponibles \\nContacto: djnoesantos...   \n1261023   @cocina_facil_mx SI me gusta esta pasta es muy sabrosa muy fácil de preparar y sobretodo económica   \n1219831  @angiocito @PediatraConTOC Ayyyy no, Soñadoras es juvenil... infantil creo que podria ser “Carus...   \n764667   Este es el porcentaje reportado al día de hoy, en este país, así que aguas porque la tercera ola...   \n75637                 @manunisima Estoy llorando tanto que con esa agua voy a ponerme a lavar trastes mañana   \n839536   @TUDNMEX #YaSeArmó cuando faltan 30 días para los preparativos de mis padres porque cumplirán 30...   \n559632   @locatel_mx hola ¿Qué pasa si no puedo presentarme a mi vacuna el día que me toca? ¿Qué debo hac...   \n513029   @Edyamrdz Te faltaron los pulques que están del lado de mi Tomatlán tan querido pero sí, es una ...   \n\n                     user_id  user_followers  user_friends  user_statuses  \\\n1928481            562661211             162           660          43064   \n505341   1193898767180808193             752          1577          22809   \n2744860             62951222             290          1068           1044   \n1261023  1264784610682175488             133           112           4978   \n1219831             83514124            5886           768          24143   \n764667              72190226            4816          1972          16989   \n75637               79315537             191          1175           5957   \n839536   1414024001677107202              63          2273           2492   \n559632            2185675572             671          4527           4585   \n513029            1458070657             425           362          24392   \n\n         user_verified  \\\n1928481          False   \n505341           False   \n2744860          False   \n1261023          False   \n1219831          False   \n764667           False   \n75637            False   \n839536           False   \n559632           False   \n513029           False   \n\n                                                                                            user_description  \\\n1928481                                                                                                 None   \n505341          Chileno en México 🇲🇽 • Tengo una banda de Rock 👉🏽 @amenazacl • #PorLaChucha #tupananchiskama   \n2744860        Tour Beat House ® 2k21 🎧🇲🇽🇱🇧\\nContacto: djnoesantos@gmail.com Press Kit: http://goo.gl/T8WAUV   \n1261023                                                                                                 None   \n1219831  Mexicano, Jarocho, Infectólogo Pediatra, Barbón, Despistado, Cosecha 1986, Coatza-CDMX 😷🏳️‍🌈#Cro...   \n764667   Esposo, padre, médico urgenciologo, alta especialidad en medicina de reanimación. Opiniones expr...   \n75637    🇲🇽ÉL 🇫🇷IL 🇺🇲HE  \\nGastrónomo y Actor \\n🏳️‍🌈🏳️‍🌈🏳️‍🌈\\ncocino para los demás y\\ncocino ideas para ...   \n839536   Soy Estudiante de Comunicación. Aficionado del @clubamerica. Mi otra cuenta de Twitter, @AndiCis...   \n559632                                                                                Nada es incuestionable   \n513029                                           Una existencia constantemente transfigurada por el fracaso.   \n\n                        user_created_at  ...  \\\n1928481  Wed Apr 25 04:08:47 +0000 2012  ...   \n505341   Mon Nov 11 14:30:35 +0000 2019  ...   \n2744860  Tue Aug 04 22:38:27 +0000 2009  ...   \n1261023  Mon May 25 05:09:02 +0000 2020  ...   \n1219831  Mon Oct 19 03:35:15 +0000 2009  ...   \n764667   Mon Sep 07 03:06:23 +0000 2009  ...   \n75637    Fri Oct 02 23:23:56 +0000 2009  ...   \n839536   Sun Jul 11 00:49:41 +0000 2021  ...   \n559632   Sun Nov 10 05:31:38 +0000 2013  ...   \n513029   Sat May 25 21:06:40 +0000 2013  ...   \n\n                                                                                                bounding_box  \\\n1928481  [[-99.324375, 19.232228], [-99.324375, 19.403856], [-99.171644, 19.403856], [-99.171644, 19.2322...   \n505341   [[-99.259495, 19.386371], [-99.259495, 19.473498], [-99.163526, 19.473498], [-99.163526, 19.3863...   \n2744860  [[-98.631598, 20.100414], [-98.631598, 20.349953], [-98.459922, 20.349953], [-98.459922, 20.1004...   \n1261023  [[-99.127265, 19.589845], [-99.127265, 19.662165], [-99.053342, 19.662165], [-99.053342, 19.5898...   \n1219831     [[-99.221136, 19.456367], [-99.221136, 19.5152], [-99.143116, 19.5152], [-99.143116, 19.456367]]   \n764667   [[-99.191996, 19.357102], [-99.191996, 19.404124], [-99.130965, 19.404124], [-99.130965, 19.3571...   \n75637     [[-99.18435, 19.399835], [-99.18435, 19.465837], [-99.122382, 19.465837], [-99.122382, 19.399835]]   \n839536   [[-92.465201, 14.618977], [-92.465201, 15.222013], [-92.153698, 15.222013], [-92.153698, 14.6189...   \n559632   [[-99.364536, 19.232313], [-99.364536, 19.405081], [-99.246625, 19.405081], [-99.246625, 19.2323...   \n513029   [[-99.140238, 19.284692], [-99.140238, 19.400885], [-98.960684, 19.400885], [-98.960684, 19.2846...   \n\n        is_quote_status  \\\n1928481           False   \n505341             True   \n2744860           False   \n1261023           False   \n1219831           False   \n764667            False   \n75637             False   \n839536            False   \n559632            False   \n513029            False   \n\n                                                                                       source  \\\n1928481    <a href=\"http://twitter.com/download/iphone\" rel=\"nofollow\">Twitter for iPhone</a>   \n505341     <a href=\"http://twitter.com/download/iphone\" rel=\"nofollow\">Twitter for iPhone</a>   \n2744860                           <a href=\"http://instagram.com\" rel=\"nofollow\">Instagram</a>   \n1261023  <a href=\"http://twitter.com/download/android\" rel=\"nofollow\">Twitter for Android</a>   \n1219831    <a href=\"http://twitter.com/download/iphone\" rel=\"nofollow\">Twitter for iPhone</a>   \n764667      <a href=\"http://twitter.com/#!/download/ipad\" rel=\"nofollow\">Twitter for iPad</a>   \n75637    <a href=\"http://twitter.com/download/android\" rel=\"nofollow\">Twitter for Android</a>   \n839536   <a href=\"http://twitter.com/download/android\" rel=\"nofollow\">Twitter for Android</a>   \n559632   <a href=\"http://twitter.com/download/android\" rel=\"nofollow\">Twitter for Android</a>   \n513029   <a href=\"http://twitter.com/download/android\" rel=\"nofollow\">Twitter for Android</a>   \n\n                             approx_coords       long        lat  \\\n1928481           [-99.2480095, 19.318042] -99.248009  19.318042   \n505341           [-99.2115105, 19.4299345] -99.211511  19.429935   \n2744860            [-98.54576, 20.2251835] -98.576389  20.203611   \n1261023           [-99.0903035, 19.626005] -99.090304  19.626005   \n1219831   [-99.18212600000001, 19.4857835] -99.182126  19.485784   \n764667     [-99.16148050000001, 19.380613] -99.161481  19.380613   \n75637              [-99.153366, 19.432836] -99.153366  19.432836   \n839536   [-92.3094495, 14.920494999999999] -92.309449  14.920495   \n559632     [-99.30558049999999, 19.318697] -99.305580  19.318697   \n513029    [-99.050461, 19.342788499999997] -99.050461  19.342788   \n\n                                geometry    GEOID                     NAME  \\\n1928481  POINT (-352855.335 -391203.357)  MX09010           Álvaro Obregón   \n505341   POINT (-348486.851 -379362.716)  MX09016           Miguel Hidalgo   \n2744860  POINT (-277337.457 -298482.007)  MX13024         Huasca de Ocampo   \n1261023  POINT (-334656.076 -358799.155)  MX15020  Coacalco de Berriozábal   \n1219831  POINT (-345099.186 -373490.427)  MX09002             Azcapotzalco   \n764667   POINT (-343235.722 -384824.245)  MX09014            Benito Juárez   \n75637    POINT (-342169.512 -379263.383)  MX09015               Cuauhtémoc   \n839536    POINT (419001.924 -855111.219)  MX07089                Tapachula   \n559632   POINT (-359104.760 -390917.622)  MX09004    Cuajimalpa de Morelos   \n513029   POINT (-331316.756 -389266.392)  MX09007               Iztapalapa   \n\n        nobot  \n1928481  True  \n505341   True  \n2744860  True  \n1261023  True  \n1219831  True  \n764667   True  \n75637    True  \n839536   True  \n559632   True  \n513029   True  \n\n[10 rows x 22 columns]",
      "text/html": "<div>\n<style scoped>\n    .dataframe tbody tr th:only-of-type {\n        vertical-align: middle;\n    }\n\n    .dataframe tbody tr th {\n        vertical-align: top;\n    }\n\n    .dataframe thead th {\n        text-align: right;\n    }\n</style>\n<table border=\"1\" class=\"dataframe\">\n  <thead>\n    <tr style=\"text-align: right;\">\n      <th></th>\n      <th>id</th>\n      <th>created_at</th>\n      <th>tweet</th>\n      <th>user_id</th>\n      <th>user_followers</th>\n      <th>user_friends</th>\n      <th>user_statuses</th>\n      <th>user_verified</th>\n      <th>user_description</th>\n      <th>user_created_at</th>\n      <th>...</th>\n      <th>bounding_box</th>\n      <th>is_quote_status</th>\n      <th>source</th>\n      <th>approx_coords</th>\n      <th>long</th>\n      <th>lat</th>\n      <th>geometry</th>\n      <th>GEOID</th>\n      <th>NAME</th>\n      <th>nobot</th>\n    </tr>\n  </thead>\n  <tbody>\n    <tr>\n      <th>1928481</th>\n      <td>1411451908737413120</td>\n      <td>Sat Jul 03 22:28:53 +0000 2021</td>\n      <td>@JLozanoA @LaCronicaDeHoy Para volverse locos</td>\n      <td>562661211</td>\n      <td>162</td>\n      <td>660</td>\n      <td>43064</td>\n      <td>False</td>\n      <td>None</td>\n      <td>Wed Apr 25 04:08:47 +0000 2012</td>\n      <td>...</td>\n      <td>[[-99.324375, 19.232228], [-99.324375, 19.403856], [-99.171644, 19.403856], [-99.171644, 19.2322...</td>\n      <td>False</td>\n      <td>&lt;a href=\"http://twitter.com/download/iphone\" rel=\"nofollow\"&gt;Twitter for iPhone&lt;/a&gt;</td>\n      <td>[-99.2480095, 19.318042]</td>\n      <td>-99.248009</td>\n      <td>19.318042</td>\n      <td>POINT (-352855.335 -391203.357)</td>\n      <td>MX09010</td>\n      <td>Álvaro Obregón</td>\n      <td>True</td>\n    </tr>\n    <tr>\n      <th>505341</th>\n      <td>1432536903790776322</td>\n      <td>Tue Aug 31 02:53:07 +0000 2021</td>\n      <td>Jajajajajajaja</td>\n      <td>1193898767180808193</td>\n      <td>752</td>\n      <td>1577</td>\n      <td>22809</td>\n      <td>False</td>\n      <td>Chileno en México 🇲🇽 • Tengo una banda de Rock 👉🏽 @amenazacl • #PorLaChucha #tupananchiskama</td>\n      <td>Mon Nov 11 14:30:35 +0000 2019</td>\n      <td>...</td>\n      <td>[[-99.259495, 19.386371], [-99.259495, 19.473498], [-99.163526, 19.473498], [-99.163526, 19.3863...</td>\n      <td>True</td>\n      <td>&lt;a href=\"http://twitter.com/download/iphone\" rel=\"nofollow\"&gt;Twitter for iPhone&lt;/a&gt;</td>\n      <td>[-99.2115105, 19.4299345]</td>\n      <td>-99.211511</td>\n      <td>19.429935</td>\n      <td>POINT (-348486.851 -379362.716)</td>\n      <td>MX09016</td>\n      <td>Miguel Hidalgo</td>\n      <td>True</td>\n    </tr>\n    <tr>\n      <th>2744860</th>\n      <td>1416776192322064388</td>\n      <td>Sun Jul 18 15:05:41 +0000 2021</td>\n      <td>Confirmo queda prohibido decir vamos a dar la vuela.\\nFechas Disponibles \\nContacto: djnoesantos...</td>\n      <td>62951222</td>\n      <td>290</td>\n      <td>1068</td>\n      <td>1044</td>\n      <td>False</td>\n      <td>Tour Beat House ® 2k21 🎧🇲🇽🇱🇧\\nContacto: djnoesantos@gmail.com Press Kit: http://goo.gl/T8WAUV</td>\n      <td>Tue Aug 04 22:38:27 +0000 2009</td>\n      <td>...</td>\n      <td>[[-98.631598, 20.100414], [-98.631598, 20.349953], [-98.459922, 20.349953], [-98.459922, 20.1004...</td>\n      <td>False</td>\n      <td>&lt;a href=\"http://instagram.com\" rel=\"nofollow\"&gt;Instagram&lt;/a&gt;</td>\n      <td>[-98.54576, 20.2251835]</td>\n      <td>-98.576389</td>\n      <td>20.203611</td>\n      <td>POINT (-277337.457 -298482.007)</td>\n      <td>MX13024</td>\n      <td>Huasca de Ocampo</td>\n      <td>True</td>\n    </tr>\n    <tr>\n      <th>1261023</th>\n      <td>1427639426293829632</td>\n      <td>Tue Aug 17 14:32:18 +0000 2021</td>\n      <td>@cocina_facil_mx SI me gusta esta pasta es muy sabrosa muy fácil de preparar y sobretodo económica</td>\n      <td>1264784610682175488</td>\n      <td>133</td>\n      <td>112</td>\n      <td>4978</td>\n      <td>False</td>\n      <td>None</td>\n      <td>Mon May 25 05:09:02 +0000 2020</td>\n      <td>...</td>\n      <td>[[-99.127265, 19.589845], [-99.127265, 19.662165], [-99.053342, 19.662165], [-99.053342, 19.5898...</td>\n      <td>False</td>\n      <td>&lt;a href=\"http://twitter.com/download/android\" rel=\"nofollow\"&gt;Twitter for Android&lt;/a&gt;</td>\n      <td>[-99.0903035, 19.626005]</td>\n      <td>-99.090304</td>\n      <td>19.626005</td>\n      <td>POINT (-334656.076 -358799.155)</td>\n      <td>MX15020</td>\n      <td>Coacalco de Berriozábal</td>\n      <td>True</td>\n    </tr>\n    <tr>\n      <th>1219831</th>\n      <td>1412549336710451205</td>\n      <td>Tue Jul 06 23:09:40 +0000 2021</td>\n      <td>@angiocito @PediatraConTOC Ayyyy no, Soñadoras es juvenil... infantil creo que podria ser “Carus...</td>\n      <td>83514124</td>\n      <td>5886</td>\n      <td>768</td>\n      <td>24143</td>\n      <td>False</td>\n      <td>Mexicano, Jarocho, Infectólogo Pediatra, Barbón, Despistado, Cosecha 1986, Coatza-CDMX 😷🏳️‍🌈#Cro...</td>\n      <td>Mon Oct 19 03:35:15 +0000 2009</td>\n      <td>...</td>\n      <td>[[-99.221136, 19.456367], [-99.221136, 19.5152], [-99.143116, 19.5152], [-99.143116, 19.456367]]</td>\n      <td>False</td>\n      <td>&lt;a href=\"http://twitter.com/download/iphone\" rel=\"nofollow\"&gt;Twitter for iPhone&lt;/a&gt;</td>\n      <td>[-99.18212600000001, 19.4857835]</td>\n      <td>-99.182126</td>\n      <td>19.485784</td>\n      <td>POINT (-345099.186 -373490.427)</td>\n      <td>MX09002</td>\n      <td>Azcapotzalco</td>\n      <td>True</td>\n    </tr>\n    <tr>\n      <th>764667</th>\n      <td>1414086754458501122</td>\n      <td>Sun Jul 11 04:58:49 +0000 2021</td>\n      <td>Este es el porcentaje reportado al día de hoy, en este país, así que aguas porque la tercera ola...</td>\n      <td>72190226</td>\n      <td>4816</td>\n      <td>1972</td>\n      <td>16989</td>\n      <td>False</td>\n      <td>Esposo, padre, médico urgenciologo, alta especialidad en medicina de reanimación. Opiniones expr...</td>\n      <td>Mon Sep 07 03:06:23 +0000 2009</td>\n      <td>...</td>\n      <td>[[-99.191996, 19.357102], [-99.191996, 19.404124], [-99.130965, 19.404124], [-99.130965, 19.3571...</td>\n      <td>False</td>\n      <td>&lt;a href=\"http://twitter.com/#!/download/ipad\" rel=\"nofollow\"&gt;Twitter for iPad&lt;/a&gt;</td>\n      <td>[-99.16148050000001, 19.380613]</td>\n      <td>-99.161481</td>\n      <td>19.380613</td>\n      <td>POINT (-343235.722 -384824.245)</td>\n      <td>MX09014</td>\n      <td>Benito Juárez</td>\n      <td>True</td>\n    </tr>\n    <tr>\n      <th>75637</th>\n      <td>1427040590856916994</td>\n      <td>Sun Aug 15 22:52:44 +0000 2021</td>\n      <td>@manunisima Estoy llorando tanto que con esa agua voy a ponerme a lavar trastes mañana</td>\n      <td>79315537</td>\n      <td>191</td>\n      <td>1175</td>\n      <td>5957</td>\n      <td>False</td>\n      <td>🇲🇽ÉL 🇫🇷IL 🇺🇲HE  \\nGastrónomo y Actor \\n🏳️‍🌈🏳️‍🌈🏳️‍🌈\\ncocino para los demás y\\ncocino ideas para ...</td>\n      <td>Fri Oct 02 23:23:56 +0000 2009</td>\n      <td>...</td>\n      <td>[[-99.18435, 19.399835], [-99.18435, 19.465837], [-99.122382, 19.465837], [-99.122382, 19.399835]]</td>\n      <td>False</td>\n      <td>&lt;a href=\"http://twitter.com/download/android\" rel=\"nofollow\"&gt;Twitter for Android&lt;/a&gt;</td>\n      <td>[-99.153366, 19.432836]</td>\n      <td>-99.153366</td>\n      <td>19.432836</td>\n      <td>POINT (-342169.512 -379263.383)</td>\n      <td>MX09015</td>\n      <td>Cuauhtémoc</td>\n      <td>True</td>\n    </tr>\n    <tr>\n      <th>839536</th>\n      <td>1422020166930550787</td>\n      <td>Mon Aug 02 02:23:22 +0000 2021</td>\n      <td>@TUDNMEX #YaSeArmó cuando faltan 30 días para los preparativos de mis padres porque cumplirán 30...</td>\n      <td>1414024001677107202</td>\n      <td>63</td>\n      <td>2273</td>\n      <td>2492</td>\n      <td>False</td>\n      <td>Soy Estudiante de Comunicación. Aficionado del @clubamerica. Mi otra cuenta de Twitter, @AndiCis...</td>\n      <td>Sun Jul 11 00:49:41 +0000 2021</td>\n      <td>...</td>\n      <td>[[-92.465201, 14.618977], [-92.465201, 15.222013], [-92.153698, 15.222013], [-92.153698, 14.6189...</td>\n      <td>False</td>\n      <td>&lt;a href=\"http://twitter.com/download/android\" rel=\"nofollow\"&gt;Twitter for Android&lt;/a&gt;</td>\n      <td>[-92.3094495, 14.920494999999999]</td>\n      <td>-92.309449</td>\n      <td>14.920495</td>\n      <td>POINT (419001.924 -855111.219)</td>\n      <td>MX07089</td>\n      <td>Tapachula</td>\n      <td>True</td>\n    </tr>\n    <tr>\n      <th>559632</th>\n      <td>1413171609234464768</td>\n      <td>Thu Jul 08 16:22:21 +0000 2021</td>\n      <td>@locatel_mx hola ¿Qué pasa si no puedo presentarme a mi vacuna el día que me toca? ¿Qué debo hac...</td>\n      <td>2185675572</td>\n      <td>671</td>\n      <td>4527</td>\n      <td>4585</td>\n      <td>False</td>\n      <td>Nada es incuestionable</td>\n      <td>Sun Nov 10 05:31:38 +0000 2013</td>\n      <td>...</td>\n      <td>[[-99.364536, 19.232313], [-99.364536, 19.405081], [-99.246625, 19.405081], [-99.246625, 19.2323...</td>\n      <td>False</td>\n      <td>&lt;a href=\"http://twitter.com/download/android\" rel=\"nofollow\"&gt;Twitter for Android&lt;/a&gt;</td>\n      <td>[-99.30558049999999, 19.318697]</td>\n      <td>-99.305580</td>\n      <td>19.318697</td>\n      <td>POINT (-359104.760 -390917.622)</td>\n      <td>MX09004</td>\n      <td>Cuajimalpa de Morelos</td>\n      <td>True</td>\n    </tr>\n    <tr>\n      <th>513029</th>\n      <td>1432885694117171201</td>\n      <td>Wed Sep 01 01:59:05 +0000 2021</td>\n      <td>@Edyamrdz Te faltaron los pulques que están del lado de mi Tomatlán tan querido pero sí, es una ...</td>\n      <td>1458070657</td>\n      <td>425</td>\n      <td>362</td>\n      <td>24392</td>\n      <td>False</td>\n      <td>Una existencia constantemente transfigurada por el fracaso.</td>\n      <td>Sat May 25 21:06:40 +0000 2013</td>\n      <td>...</td>\n      <td>[[-99.140238, 19.284692], [-99.140238, 19.400885], [-98.960684, 19.400885], [-98.960684, 19.2846...</td>\n      <td>False</td>\n      <td>&lt;a href=\"http://twitter.com/download/android\" rel=\"nofollow\"&gt;Twitter for Android&lt;/a&gt;</td>\n      <td>[-99.050461, 19.342788499999997]</td>\n      <td>-99.050461</td>\n      <td>19.342788</td>\n      <td>POINT (-331316.756 -389266.392)</td>\n      <td>MX09007</td>\n      <td>Iztapalapa</td>\n      <td>True</td>\n    </tr>\n  </tbody>\n</table>\n<p>10 rows × 22 columns</p>\n</div>"
     },
     "execution_count": 45,
     "metadata": {},
     "output_type": "execute_result"
    }
   ],
   "source": [
    "# Add column to identify tweets that are not posted through a third party API (???)\n",
    "keep_sources = [\"\"\"<a href=\"http://twitter.com/download/iphone\" rel=\"nofollow\">Twitter for iPhone</a>\"\"\",\n",
    "                \"\"\"<a href=\"http://twitter.com/download/android\" rel=\"nofollow\">Twitter for Android</a>\"\"\",\n",
    "                \"\"\"<a href=\"http://instagram.com\" rel=\"nofollow\">Instagram</a>\"\"\",\n",
    "                \"\"\"<a href=\"http://twitter.com/#!/download/ipad\" rel=\"nofollow\">Twitter for iPad</a>\"\"\"]\n",
    "\n",
    "df[\"nobot\"] = False\n",
    "df.loc[df[\"source\"].isin(keep_sources), \"nobot\"] = True\n",
    "df[df[\"nobot\"]].sample(10)"
   ],
   "metadata": {
    "collapsed": false
   }
  },
  {
   "cell_type": "code",
   "execution_count": 46,
   "outputs": [
    {
     "data": {
      "text/plain": "True     2731811\nFalse      19894\nName: nobot, dtype: int64"
     },
     "execution_count": 46,
     "metadata": {},
     "output_type": "execute_result"
    }
   ],
   "source": [
    "df[\"nobot\"].value_counts()"
   ],
   "metadata": {
    "collapsed": false
   }
  },
  {
   "cell_type": "markdown",
   "source": [
    "### 3.2. Inspect users with high number of statuses"
   ],
   "metadata": {
    "collapsed": false
   }
  },
  {
   "cell_type": "code",
   "execution_count": 47,
   "outputs": [
    {
     "data": {
      "text/plain": "           count           mean            std  min       25%      50%  \\\nnobot                                                                    \nFalse    19894.0  183680.869458  298348.003316  1.0  12457.25  35349.5   \nTrue   2731811.0   24458.644895   66997.915329  1.0   2154.00   8560.0   \n\n            75%        max  \nnobot                       \nFalse  159480.0   847680.0  \nTrue    25547.0  1863973.0  ",
      "text/html": "<div>\n<style scoped>\n    .dataframe tbody tr th:only-of-type {\n        vertical-align: middle;\n    }\n\n    .dataframe tbody tr th {\n        vertical-align: top;\n    }\n\n    .dataframe thead th {\n        text-align: right;\n    }\n</style>\n<table border=\"1\" class=\"dataframe\">\n  <thead>\n    <tr style=\"text-align: right;\">\n      <th></th>\n      <th>count</th>\n      <th>mean</th>\n      <th>std</th>\n      <th>min</th>\n      <th>25%</th>\n      <th>50%</th>\n      <th>75%</th>\n      <th>max</th>\n    </tr>\n    <tr>\n      <th>nobot</th>\n      <th></th>\n      <th></th>\n      <th></th>\n      <th></th>\n      <th></th>\n      <th></th>\n      <th></th>\n      <th></th>\n    </tr>\n  </thead>\n  <tbody>\n    <tr>\n      <th>False</th>\n      <td>19894.0</td>\n      <td>183680.869458</td>\n      <td>298348.003316</td>\n      <td>1.0</td>\n      <td>12457.25</td>\n      <td>35349.5</td>\n      <td>159480.0</td>\n      <td>847680.0</td>\n    </tr>\n    <tr>\n      <th>True</th>\n      <td>2731811.0</td>\n      <td>24458.644895</td>\n      <td>66997.915329</td>\n      <td>1.0</td>\n      <td>2154.00</td>\n      <td>8560.0</td>\n      <td>25547.0</td>\n      <td>1863973.0</td>\n    </tr>\n  </tbody>\n</table>\n</div>"
     },
     "execution_count": 47,
     "metadata": {},
     "output_type": "execute_result"
    }
   ],
   "source": [
    "df.groupby(\"nobot\")[\"user_statuses\"].describe()\n"
   ],
   "metadata": {
    "collapsed": false
   }
  },
  {
   "cell_type": "code",
   "execution_count": 48,
   "outputs": [
    {
     "data": {
      "text/plain": "                        NAME  \\\n12     Zihuatanejo de Azueta   \n1701     Ecatepec de Morelos   \n1875     Ecatepec de Morelos   \n1879     Ecatepec de Morelos   \n2785     Ecatepec de Morelos   \n4613     Ecatepec de Morelos   \n20180    Ecatepec de Morelos   \n23175             Cuauhtémoc   \n23323         Miguel Hidalgo   \n23552             Cuauhtémoc   \n\n                                                                                                     tweet  \\\n12                                                                                         Aló Twitterland   \n1701                   Dios los hace y los\\nHijos de PUTLA\\nSe juntaron para Robar https://t.co/ZfQSSyDukN   \n1875                                                             @espnsutcliffe Medalla para Alexa Moreno?   \n1879                                                                                   @neria_ramos Amén 😇   \n2785                      Just posted a photo @ Los Bisquets  Obregón Las Américas https://t.co/cv73S8xq11   \n4613                                                                    @elchairoAMLO Buen día, provecho ☕   \n20180                                                           @GinaHdezMD 😱😱😱😱 ay si!!! Veñ te enseño 🙈🙈   \n23175  Ganar y romper un récord es increíble, pero la manera en que #TatjanaSchoemaker celebra lo es to...   \n23323                                                      La de hoy #SomosÁguilas https://t.co/pPICuWV0AS   \n23552                                             Cualquier lugar que ponga a Zoé, tiene mi aprobación 😾 ™   \n\n          user_id  \\\n12       49227540   \n1701   2281641013   \n1875     95327125   \n1879    163552083   \n2785     74934662   \n4613     93085761   \n20180    64991514   \n23175    95294154   \n23323     4041161   \n23552  2427984810   \n\n                                                                                          user_description  \\\n12     Gato, costeña, periodista, activista, obradorista, artista, guerrerense. Amo el café. Enamorada ...   \n1701                                                                                                  None   \n1875                      We do what we want. We don't care what anyone else thinks!!!\\r\\n\\r\\nCliff Burton   \n1879              Creo en un México de bienestar para todos, es posible ¡Sí...todos participamos ! 🙏😇😊🇲🇽❤️   \n2785   •Si no sabes cómo seguir; Improvisa• || Da igual cómo te vean. Tú, ¿te ves? || ℒ𝑜𝓈 𝒶𝒸𝒸𝑒𝓈𝑜𝓇𝒾𝑜𝓈 𝓈𝑒...   \n4613   Economista experto en planeación, operación y evaluación de proyectos.\\nPendejeo gratis a quien ...   \n20180  Lord Sith | Investigador de tiempo completo del fenómeno OVNI 🛸 | Próximo maestro taquero 🌮 | ma...   \n23175  Stivi De TiVi (Enrique Solorzano). Mi vida es la televisión y el cine. Me encuentras en radio, T...   \n23323  ¿? y aprendiz de todo, oficial de nada. Un humano más y creo que estaré estudiando toda la vida....   \n23552  Transfer serigráfico sobre textiles * Transfer Orgánico sobre vidrio. Mezcal El Rogón 🌿 #HCongre...   \n\n                                                                                     source  \n12     <a href=\"http://twitter.com/download/android\" rel=\"nofollow\">Twitter for Android</a>  \n1701   <a href=\"http://twitter.com/download/android\" rel=\"nofollow\">Twitter for Android</a>  \n1875   <a href=\"http://twitter.com/download/android\" rel=\"nofollow\">Twitter for Android</a>  \n1879   <a href=\"http://twitter.com/download/android\" rel=\"nofollow\">Twitter for Android</a>  \n2785                            <a href=\"http://instagram.com\" rel=\"nofollow\">Instagram</a>  \n4613   <a href=\"http://twitter.com/download/android\" rel=\"nofollow\">Twitter for Android</a>  \n20180    <a href=\"http://twitter.com/download/iphone\" rel=\"nofollow\">Twitter for iPhone</a>  \n23175    <a href=\"http://twitter.com/download/iphone\" rel=\"nofollow\">Twitter for iPhone</a>  \n23323  <a href=\"http://twitter.com/download/android\" rel=\"nofollow\">Twitter for Android</a>  \n23552  <a href=\"http://twitter.com/download/android\" rel=\"nofollow\">Twitter for Android</a>  ",
      "text/html": "<div>\n<style scoped>\n    .dataframe tbody tr th:only-of-type {\n        vertical-align: middle;\n    }\n\n    .dataframe tbody tr th {\n        vertical-align: top;\n    }\n\n    .dataframe thead th {\n        text-align: right;\n    }\n</style>\n<table border=\"1\" class=\"dataframe\">\n  <thead>\n    <tr style=\"text-align: right;\">\n      <th></th>\n      <th>NAME</th>\n      <th>tweet</th>\n      <th>user_id</th>\n      <th>user_description</th>\n      <th>source</th>\n    </tr>\n  </thead>\n  <tbody>\n    <tr>\n      <th>12</th>\n      <td>Zihuatanejo de Azueta</td>\n      <td>Aló Twitterland</td>\n      <td>49227540</td>\n      <td>Gato, costeña, periodista, activista, obradorista, artista, guerrerense. Amo el café. Enamorada ...</td>\n      <td>&lt;a href=\"http://twitter.com/download/android\" rel=\"nofollow\"&gt;Twitter for Android&lt;/a&gt;</td>\n    </tr>\n    <tr>\n      <th>1701</th>\n      <td>Ecatepec de Morelos</td>\n      <td>Dios los hace y los\\nHijos de PUTLA\\nSe juntaron para Robar https://t.co/ZfQSSyDukN</td>\n      <td>2281641013</td>\n      <td>None</td>\n      <td>&lt;a href=\"http://twitter.com/download/android\" rel=\"nofollow\"&gt;Twitter for Android&lt;/a&gt;</td>\n    </tr>\n    <tr>\n      <th>1875</th>\n      <td>Ecatepec de Morelos</td>\n      <td>@espnsutcliffe Medalla para Alexa Moreno?</td>\n      <td>95327125</td>\n      <td>We do what we want. We don't care what anyone else thinks!!!\\r\\n\\r\\nCliff Burton</td>\n      <td>&lt;a href=\"http://twitter.com/download/android\" rel=\"nofollow\"&gt;Twitter for Android&lt;/a&gt;</td>\n    </tr>\n    <tr>\n      <th>1879</th>\n      <td>Ecatepec de Morelos</td>\n      <td>@neria_ramos Amén 😇</td>\n      <td>163552083</td>\n      <td>Creo en un México de bienestar para todos, es posible ¡Sí...todos participamos ! 🙏😇😊🇲🇽❤️</td>\n      <td>&lt;a href=\"http://twitter.com/download/android\" rel=\"nofollow\"&gt;Twitter for Android&lt;/a&gt;</td>\n    </tr>\n    <tr>\n      <th>2785</th>\n      <td>Ecatepec de Morelos</td>\n      <td>Just posted a photo @ Los Bisquets  Obregón Las Américas https://t.co/cv73S8xq11</td>\n      <td>74934662</td>\n      <td>•Si no sabes cómo seguir; Improvisa• || Da igual cómo te vean. Tú, ¿te ves? || ℒ𝑜𝓈 𝒶𝒸𝒸𝑒𝓈𝑜𝓇𝒾𝑜𝓈 𝓈𝑒...</td>\n      <td>&lt;a href=\"http://instagram.com\" rel=\"nofollow\"&gt;Instagram&lt;/a&gt;</td>\n    </tr>\n    <tr>\n      <th>4613</th>\n      <td>Ecatepec de Morelos</td>\n      <td>@elchairoAMLO Buen día, provecho ☕</td>\n      <td>93085761</td>\n      <td>Economista experto en planeación, operación y evaluación de proyectos.\\nPendejeo gratis a quien ...</td>\n      <td>&lt;a href=\"http://twitter.com/download/android\" rel=\"nofollow\"&gt;Twitter for Android&lt;/a&gt;</td>\n    </tr>\n    <tr>\n      <th>20180</th>\n      <td>Ecatepec de Morelos</td>\n      <td>@GinaHdezMD 😱😱😱😱 ay si!!! Veñ te enseño 🙈🙈</td>\n      <td>64991514</td>\n      <td>Lord Sith | Investigador de tiempo completo del fenómeno OVNI 🛸 | Próximo maestro taquero 🌮 | ma...</td>\n      <td>&lt;a href=\"http://twitter.com/download/iphone\" rel=\"nofollow\"&gt;Twitter for iPhone&lt;/a&gt;</td>\n    </tr>\n    <tr>\n      <th>23175</th>\n      <td>Cuauhtémoc</td>\n      <td>Ganar y romper un récord es increíble, pero la manera en que #TatjanaSchoemaker celebra lo es to...</td>\n      <td>95294154</td>\n      <td>Stivi De TiVi (Enrique Solorzano). Mi vida es la televisión y el cine. Me encuentras en radio, T...</td>\n      <td>&lt;a href=\"http://twitter.com/download/iphone\" rel=\"nofollow\"&gt;Twitter for iPhone&lt;/a&gt;</td>\n    </tr>\n    <tr>\n      <th>23323</th>\n      <td>Miguel Hidalgo</td>\n      <td>La de hoy #SomosÁguilas https://t.co/pPICuWV0AS</td>\n      <td>4041161</td>\n      <td>¿? y aprendiz de todo, oficial de nada. Un humano más y creo que estaré estudiando toda la vida....</td>\n      <td>&lt;a href=\"http://twitter.com/download/android\" rel=\"nofollow\"&gt;Twitter for Android&lt;/a&gt;</td>\n    </tr>\n    <tr>\n      <th>23552</th>\n      <td>Cuauhtémoc</td>\n      <td>Cualquier lugar que ponga a Zoé, tiene mi aprobación 😾 ™</td>\n      <td>2427984810</td>\n      <td>Transfer serigráfico sobre textiles * Transfer Orgánico sobre vidrio. Mezcal El Rogón 🌿 #HCongre...</td>\n      <td>&lt;a href=\"http://twitter.com/download/android\" rel=\"nofollow\"&gt;Twitter for Android&lt;/a&gt;</td>\n    </tr>\n  </tbody>\n</table>\n</div>"
     },
     "execution_count": 48,
     "metadata": {},
     "output_type": "execute_result"
    }
   ],
   "source": [
    "df.loc[(df[\"user_statuses\"] > 200000) & (df[\"nobot\"]),\n",
    "             [\"NAME\", \"tweet\", \"user_id\", \"user_description\", \"source\"]].drop_duplicates(subset=\"user_id\").head(10) # Does not look like bots"
   ],
   "metadata": {
    "collapsed": false
   }
  },
  {
   "cell_type": "markdown",
   "source": [
    "### 3.3. Exclude bots using source of tweets"
   ],
   "metadata": {
    "collapsed": false
   }
  },
  {
   "cell_type": "code",
   "execution_count": 49,
   "outputs": [],
   "source": [
    "# Keep only: iPhone, Android, Instagram, iPad\n",
    "df = df[df[\"nobot\"]]\n",
    "df.drop(\"nobot\", axis=1, inplace=True)"
   ],
   "metadata": {
    "collapsed": false
   }
  },
  {
   "cell_type": "markdown",
   "source": [
    "## 4. Compute local time for each tweet"
   ],
   "metadata": {
    "collapsed": false
   }
  },
  {
   "cell_type": "code",
   "execution_count": 50,
   "outputs": [
    {
     "data": {
      "text/plain": "0    Sat Jul 31 21:59:54 +0000 2021\n1    Sat Jul 31 22:05:36 +0000 2021\n2    Sat Jul 31 22:31:00 +0000 2021\n3    Sat Jul 31 22:40:59 +0000 2021\n4    Sat Jul 31 22:53:44 +0000 2021\nName: created_at, dtype: object"
     },
     "execution_count": 50,
     "metadata": {},
     "output_type": "execute_result"
    }
   ],
   "source": [
    "# Inspect format (UCT time)\n",
    "df[\"created_at\"].head()"
   ],
   "metadata": {
    "collapsed": false
   }
  },
  {
   "cell_type": "code",
   "execution_count": 51,
   "outputs": [
    {
     "name": "stderr",
     "output_type": "stream",
     "text": [
      "C:\\Users\\jakob\\.virtualenvs\\mapping_mistakes\\lib\\site-packages\\tzwhere\\tzwhere.py:62: VisibleDeprecationWarning: Creating an ndarray from ragged nested sequences (which is a list-or-tuple of lists-or-tuples-or ndarrays with different lengths or shapes) is deprecated. If you meant to do this, you must specify 'dtype=object' when creating the ndarray.\n",
      "  self.timezoneNamesToPolygons[tzname] = WRAP(polys)\n",
      "C:\\Users\\jakob\\.virtualenvs\\mapping_mistakes\\lib\\site-packages\\tzwhere\\tzwhere.py:65: VisibleDeprecationWarning: Creating an ndarray from ragged nested sequences (which is a list-or-tuple of lists-or-tuples-or ndarrays with different lengths or shapes) is deprecated. If you meant to do this, you must specify 'dtype=object' when creating the ndarray.\n",
      "  self.unprepTimezoneNamesToPolygons[tzname] = WRAP(polys)\n"
     ]
    },
    {
     "name": "stdout",
     "output_type": "stream",
     "text": [
      "0\n"
     ]
    },
    {
     "data": {
      "text/plain": "America/Mexico_City    1813732\nAmerica/Monterrey       425209\nAmerica/Mazatlan        103044\nAmerica/Merida          102214\nAmerica/Hermosillo       90120\nName: timezone, dtype: int64"
     },
     "execution_count": 51,
     "metadata": {},
     "output_type": "execute_result"
    }
   ],
   "source": [
    "# Compute time zone based on coordinates\n",
    "from tzwhere import tzwhere # Not sure why, but needs to be imported here\n",
    "tzwhere = tzwhere.tzwhere(forceTZ=True)\n",
    "df[\"timezone\"] = df.apply(lambda x: tzwhere.tzNameAt(x[\"lat\"], x[\"long\"], forceTZ=True), axis=1)\n",
    "print(sum(df[\"timezone\"].isna())) # Should be none\n",
    "df[\"timezone\"].value_counts().head()"
   ],
   "metadata": {
    "collapsed": false
   }
  },
  {
   "cell_type": "code",
   "execution_count": 52,
   "outputs": [
    {
     "data": {
      "text/plain": "                 created_at             timezone          local_time\n0 2021-07-31 21:59:54+00:00  America/Mexico_City 2021-07-31 16:59:54\n1 2021-07-31 22:05:36+00:00  America/Mexico_City 2021-07-31 17:05:36\n2 2021-07-31 22:31:00+00:00  America/Mexico_City 2021-07-31 17:31:00\n3 2021-07-31 22:40:59+00:00  America/Mexico_City 2021-07-31 17:40:59\n4 2021-07-31 22:53:44+00:00  America/Mexico_City 2021-07-31 17:53:44",
      "text/html": "<div>\n<style scoped>\n    .dataframe tbody tr th:only-of-type {\n        vertical-align: middle;\n    }\n\n    .dataframe tbody tr th {\n        vertical-align: top;\n    }\n\n    .dataframe thead th {\n        text-align: right;\n    }\n</style>\n<table border=\"1\" class=\"dataframe\">\n  <thead>\n    <tr style=\"text-align: right;\">\n      <th></th>\n      <th>created_at</th>\n      <th>timezone</th>\n      <th>local_time</th>\n    </tr>\n  </thead>\n  <tbody>\n    <tr>\n      <th>0</th>\n      <td>2021-07-31 21:59:54+00:00</td>\n      <td>America/Mexico_City</td>\n      <td>2021-07-31 16:59:54</td>\n    </tr>\n    <tr>\n      <th>1</th>\n      <td>2021-07-31 22:05:36+00:00</td>\n      <td>America/Mexico_City</td>\n      <td>2021-07-31 17:05:36</td>\n    </tr>\n    <tr>\n      <th>2</th>\n      <td>2021-07-31 22:31:00+00:00</td>\n      <td>America/Mexico_City</td>\n      <td>2021-07-31 17:31:00</td>\n    </tr>\n    <tr>\n      <th>3</th>\n      <td>2021-07-31 22:40:59+00:00</td>\n      <td>America/Mexico_City</td>\n      <td>2021-07-31 17:40:59</td>\n    </tr>\n    <tr>\n      <th>4</th>\n      <td>2021-07-31 22:53:44+00:00</td>\n      <td>America/Mexico_City</td>\n      <td>2021-07-31 17:53:44</td>\n    </tr>\n  </tbody>\n</table>\n</div>"
     },
     "execution_count": 52,
     "metadata": {},
     "output_type": "execute_result"
    }
   ],
   "source": [
    "# Compute local time for each tweet\n",
    "df[\"created_at\"] = pd.to_datetime(df[\"created_at\"], format = '%a %b %d %H:%M:%S +0000 %Y', utc=True)\n",
    "def tz_func(x):\n",
    "    return x.dt.tz_convert(x.name).dt.tz_localize(tz=None)\n",
    "df[\"local_time\"] = df.groupby(\"timezone\")[\"created_at\"].transform(tz_func)\n",
    "df[[\"created_at\", \"timezone\", \"local_time\"]].head()"
   ],
   "metadata": {
    "collapsed": false
   }
  },
  {
   "cell_type": "code",
   "execution_count": 53,
   "outputs": [
    {
     "name": "stdout",
     "output_type": "stream",
     "text": [
      "22    173431\n",
      "21    169916\n",
      "20    158345\n",
      "11    154222\n",
      "12    151466\n",
      "10    151452\n",
      "13    149286\n",
      "19    147597\n",
      "23    145336\n",
      "14    143146\n",
      "15    141314\n",
      "9     140027\n",
      "18    138888\n",
      "16    138252\n",
      "17    137784\n",
      "8     120132\n",
      "0      96539\n",
      "7      81446\n",
      "1      54837\n",
      "6      43370\n",
      "2      31249\n",
      "5      25149\n",
      "3      20252\n",
      "4      18375\n",
      "Name: hour, dtype: int64\n",
      "1    402437\n",
      "4    402292\n",
      "3    397697\n",
      "6    387602\n",
      "0    385619\n",
      "2    380157\n",
      "5    376007\n",
      "Name: day, dtype: int64\n"
     ]
    }
   ],
   "source": [
    "# Create separate variables for day and time\n",
    "df[\"hour\"] = df[\"local_time\"].dt.hour\n",
    "df[\"day\"] = df[\"local_time\"].dt.weekday # 0 = Monday, 6 = Sunday\n",
    "print(df[\"hour\"].value_counts())\n",
    "print(df[\"day\"].value_counts())"
   ],
   "metadata": {
    "collapsed": false
   }
  },
  {
   "cell_type": "code",
   "execution_count": 54,
   "outputs": [
    {
     "data": {
      "text/plain": "True     1968202\nFalse     763609\nName: weekday, dtype: int64"
     },
     "execution_count": 54,
     "metadata": {},
     "output_type": "execute_result"
    }
   ],
   "source": [
    "# Define weekdays\n",
    "df[\"weekday\"] = df[\"day\"] < 5\n",
    "df[\"weekday\"].value_counts()"
   ],
   "metadata": {
    "collapsed": false
   }
  },
  {
   "cell_type": "code",
   "execution_count": 55,
   "outputs": [
    {
     "data": {
      "text/plain": "False    1886357\nTrue      845454\nName: workhours, dtype: int64"
     },
     "execution_count": 55,
     "metadata": {},
     "output_type": "execute_result"
    }
   ],
   "source": [
    "# Distinguish between free time and worktime\n",
    "df[\"workhours\"] = (df[\"weekday\"]) & (df[\"hour\"] >= 9) & (df[\"hour\"] < 17) # 9-5 (Does this apply for MX?)\n",
    "df[\"workhours\"].value_counts()\n"
   ],
   "metadata": {
    "collapsed": false
   }
  },
  {
   "cell_type": "markdown",
   "source": [
    "## 5. Handle users that tweet from different muns"
   ],
   "metadata": {
    "collapsed": false
   }
  },
  {
   "cell_type": "code",
   "execution_count": 56,
   "outputs": [
    {
     "name": "stdout",
     "output_type": "stream",
     "text": [
      "count    129562.000000\n",
      "mean          1.738341\n",
      "std           1.567180\n",
      "min           1.000000\n",
      "25%           1.000000\n",
      "50%           1.000000\n",
      "75%           2.000000\n",
      "max          91.000000\n",
      "Name: long, dtype: float64\n"
     ]
    },
    {
     "data": {
      "text/plain": "1     0.646964\n2     0.192302\n3     0.076373\n4     0.035944\n5     0.019605\n6     0.010258\n7     0.006128\n8     0.004376\n9     0.002547\n10    0.001567\n11    0.001165\n12    0.000741\n13    0.000502\n14    0.000347\n15    0.000216\n16    0.000162\n17    0.000123\n21    0.000093\n18    0.000077\n19    0.000077\n20    0.000062\n22    0.000054\n24    0.000046\n23    0.000039\n26    0.000031\n27    0.000023\n28    0.000023\n30    0.000023\n38    0.000023\n33    0.000023\n29    0.000015\n25    0.000015\n31    0.000015\n37    0.000008\n43    0.000008\n34    0.000008\n32    0.000008\n91    0.000008\nName: long, dtype: float64"
     },
     "execution_count": 56,
     "metadata": {},
     "output_type": "execute_result"
    }
   ],
   "source": [
    "# Inspect nr of muns users tweet from\n",
    "muns_per_user = df.groupby([\"user_id\", \"GEOID\"]).count()\n",
    "muns_per_user = muns_per_user.groupby(\"user_id\")[\"long\"].count().sort_values(ascending=False)\n",
    "print(muns_per_user.describe())\n",
    "muns_per_user.value_counts(normalize=True)"
   ],
   "metadata": {
    "collapsed": false
   }
  },
  {
   "cell_type": "code",
   "execution_count": 57,
   "outputs": [],
   "source": [
    "# Inspect users who tweet from many municipalities\n",
    "df[\"nr_muns\"] = df.groupby(\"user_id\")[\"GEOID\"].transform(\"nunique\") # add variable for nr of muns each user tweets from\n",
    "if mode == \"full\":\n",
    "    df.loc[df[\"nr_muns\"] > 5, [\"NAME\", \"tweet\", \"user_description\"]].sample(20)  # Looks like normal users (e.g. truck drivers)"
   ],
   "metadata": {
    "collapsed": false
   }
  },
  {
   "cell_type": "code",
   "execution_count": 58,
   "outputs": [
    {
     "name": "stdout",
     "output_type": "stream",
     "text": [
      "MX19039    120079\n",
      "MX09015    103171\n",
      "MX09014     86753\n",
      "MX14120     79585\n",
      "MX14039     78735\n",
      "Name: main_mun_all, dtype: int64\n",
      "1    2703487\n",
      "2      24079\n",
      "3       3129\n",
      "4        798\n",
      "5        228\n",
      "7         35\n",
      "6         30\n",
      "8         16\n",
      "9          9\n",
      "Name: nr_main_muns, dtype: int64\n",
      "1    0.989632\n",
      "2    0.008814\n",
      "3    0.001145\n",
      "4    0.000292\n",
      "5    0.000083\n",
      "7    0.000013\n",
      "6    0.000011\n",
      "8    0.000006\n",
      "9    0.000003\n",
      "Name: nr_main_muns, dtype: float64\n"
     ]
    }
   ],
   "source": [
    "# Get main municipality/ies for each user\n",
    "df[\"main_mun_all\"] = df.groupby(\"user_id\")[\"GEOID\"].transform(lambda x: \",\".join(st.multimode(x)))\n",
    "df[\"nr_main_muns\"] = df.groupby(\"user_id\")[\"GEOID\"].transform(lambda x: len(st.multimode(x)))\n",
    "print(df[\"main_mun_all\"].value_counts().head())\n",
    "print(df[\"nr_main_muns\"].value_counts())\n",
    "print(df[\"nr_main_muns\"].value_counts(normalize=True))"
   ],
   "metadata": {
    "collapsed": false
   }
  },
  {
   "cell_type": "code",
   "execution_count": 59,
   "outputs": [
    {
     "name": "stderr",
     "output_type": "stream",
     "text": [
      "C:\\Users\\jakob\\AppData\\Local\\Temp\\9\\ipykernel_23352\\3870564135.py:3: SettingWithCopyWarning: \n",
      "A value is trying to be set on a copy of a slice from a DataFrame\n",
      "\n",
      "See the caveats in the documentation: https://pandas.pydata.org/pandas-docs/stable/user_guide/indexing.html#returning-a-view-versus-a-copy\n",
      "  df[\"mun_home\"].loc[(df[\"weekday\"] == False) | (df[\"workhours\"] == True)] = np.nan\n"
     ]
    },
    {
     "name": "stdout",
     "output_type": "stream",
     "text": [
      "MX19039    115371\n",
      "MX09015     93421\n",
      "MX09014     85340\n",
      "MX14120     77648\n",
      "MX14039     74870\n",
      "Name: main_mun_home, dtype: int64\n",
      "1     2622631\n",
      "0       73048\n",
      "2       31297\n",
      "3        3635\n",
      "4         877\n",
      "5         136\n",
      "6          81\n",
      "12         44\n",
      "8          36\n",
      "7          26\n",
      "Name: nr_home_muns, dtype: int64\n",
      "1     0.960034\n",
      "0     0.026740\n",
      "2     0.011457\n",
      "3     0.001331\n",
      "4     0.000321\n",
      "5     0.000050\n",
      "6     0.000030\n",
      "12    0.000016\n",
      "8     0.000013\n",
      "7     0.000010\n",
      "Name: nr_home_muns, dtype: float64\n"
     ]
    }
   ],
   "source": [
    "# Get main municipality/ies for each user excluding tweets during workhours or weekends (when people might not be at home)\n",
    "df[\"mun_home\"] = df[\"GEOID\"]*1\n",
    "df[\"mun_home\"].loc[(df[\"weekday\"] == False) | (df[\"workhours\"] == True)] = np.nan\n",
    "df[\"main_mun_home\"] = df.groupby(\"user_id\")[\"mun_home\"].transform(lambda x: \",\".join(\n",
    "    st.multimode(x[x.notna()])))\n",
    "\n",
    "df[\"nr_home_muns\"] = df.groupby(\"user_id\")[\"mun_home\"].transform(lambda x: len(st.multimode(x[x.notna()])))\n",
    "print(df[\"main_mun_home\"].value_counts().head())\n",
    "print(df[\"nr_home_muns\"].value_counts())\n",
    "print(df[\"nr_home_muns\"].value_counts(normalize=True))"
   ],
   "metadata": {
    "collapsed": false
   }
  },
  {
   "cell_type": "code",
   "execution_count": 60,
   "outputs": [
    {
     "data": {
      "text/plain": "   main_mun_all main_mun_home  nr_muns  nr_home_muns\n0       MX12038       MX12038        1             1\n1       MX12038       MX12038        1             1\n2       MX12038       MX12038        1             1\n3       MX12038       MX12038        1             1\n4       MX12038       MX12038        1             1\n5       MX12038       MX12038        1             1\n6       MX12038       MX12038        1             1\n7       MX12038       MX11020        2             1\n8       MX12038       MX12038        3             1\n9       MX12038       MX12038        1             1\n10      MX12038       MX12038        1             1\n11      MX12038       MX12038        1             1\n12      MX12038       MX12038        2             1\n13      MX12038       MX12038        2             1\n14      MX12038       MX12038        1             1\n15      MX12038       MX12038        1             1\n16      MX16053       MX16053        4             1\n17      MX12038       MX12038        2             1\n18      MX12038       MX12038        1             1\n19      MX12038       MX12038        2             1",
      "text/html": "<div>\n<style scoped>\n    .dataframe tbody tr th:only-of-type {\n        vertical-align: middle;\n    }\n\n    .dataframe tbody tr th {\n        vertical-align: top;\n    }\n\n    .dataframe thead th {\n        text-align: right;\n    }\n</style>\n<table border=\"1\" class=\"dataframe\">\n  <thead>\n    <tr style=\"text-align: right;\">\n      <th></th>\n      <th>main_mun_all</th>\n      <th>main_mun_home</th>\n      <th>nr_muns</th>\n      <th>nr_home_muns</th>\n    </tr>\n  </thead>\n  <tbody>\n    <tr>\n      <th>0</th>\n      <td>MX12038</td>\n      <td>MX12038</td>\n      <td>1</td>\n      <td>1</td>\n    </tr>\n    <tr>\n      <th>1</th>\n      <td>MX12038</td>\n      <td>MX12038</td>\n      <td>1</td>\n      <td>1</td>\n    </tr>\n    <tr>\n      <th>2</th>\n      <td>MX12038</td>\n      <td>MX12038</td>\n      <td>1</td>\n      <td>1</td>\n    </tr>\n    <tr>\n      <th>3</th>\n      <td>MX12038</td>\n      <td>MX12038</td>\n      <td>1</td>\n      <td>1</td>\n    </tr>\n    <tr>\n      <th>4</th>\n      <td>MX12038</td>\n      <td>MX12038</td>\n      <td>1</td>\n      <td>1</td>\n    </tr>\n    <tr>\n      <th>5</th>\n      <td>MX12038</td>\n      <td>MX12038</td>\n      <td>1</td>\n      <td>1</td>\n    </tr>\n    <tr>\n      <th>6</th>\n      <td>MX12038</td>\n      <td>MX12038</td>\n      <td>1</td>\n      <td>1</td>\n    </tr>\n    <tr>\n      <th>7</th>\n      <td>MX12038</td>\n      <td>MX11020</td>\n      <td>2</td>\n      <td>1</td>\n    </tr>\n    <tr>\n      <th>8</th>\n      <td>MX12038</td>\n      <td>MX12038</td>\n      <td>3</td>\n      <td>1</td>\n    </tr>\n    <tr>\n      <th>9</th>\n      <td>MX12038</td>\n      <td>MX12038</td>\n      <td>1</td>\n      <td>1</td>\n    </tr>\n    <tr>\n      <th>10</th>\n      <td>MX12038</td>\n      <td>MX12038</td>\n      <td>1</td>\n      <td>1</td>\n    </tr>\n    <tr>\n      <th>11</th>\n      <td>MX12038</td>\n      <td>MX12038</td>\n      <td>1</td>\n      <td>1</td>\n    </tr>\n    <tr>\n      <th>12</th>\n      <td>MX12038</td>\n      <td>MX12038</td>\n      <td>2</td>\n      <td>1</td>\n    </tr>\n    <tr>\n      <th>13</th>\n      <td>MX12038</td>\n      <td>MX12038</td>\n      <td>2</td>\n      <td>1</td>\n    </tr>\n    <tr>\n      <th>14</th>\n      <td>MX12038</td>\n      <td>MX12038</td>\n      <td>1</td>\n      <td>1</td>\n    </tr>\n    <tr>\n      <th>15</th>\n      <td>MX12038</td>\n      <td>MX12038</td>\n      <td>1</td>\n      <td>1</td>\n    </tr>\n    <tr>\n      <th>16</th>\n      <td>MX16053</td>\n      <td>MX16053</td>\n      <td>4</td>\n      <td>1</td>\n    </tr>\n    <tr>\n      <th>17</th>\n      <td>MX12038</td>\n      <td>MX12038</td>\n      <td>2</td>\n      <td>1</td>\n    </tr>\n    <tr>\n      <th>18</th>\n      <td>MX12038</td>\n      <td>MX12038</td>\n      <td>1</td>\n      <td>1</td>\n    </tr>\n    <tr>\n      <th>19</th>\n      <td>MX12038</td>\n      <td>MX12038</td>\n      <td>2</td>\n      <td>1</td>\n    </tr>\n  </tbody>\n</table>\n</div>"
     },
     "execution_count": 60,
     "metadata": {},
     "output_type": "execute_result"
    }
   ],
   "source": [
    "df[[\"main_mun_all\", \"main_mun_home\", \"nr_muns\", \"nr_home_muns\"]].head(20)"
   ],
   "metadata": {
    "collapsed": false
   }
  },
  {
   "cell_type": "code",
   "execution_count": 61,
   "outputs": [
    {
     "data": {
      "text/plain": "Pandas Apply:   0%|          | 0/2731811 [00:00<?, ?it/s]",
      "application/vnd.jupyter.widget-view+json": {
       "version_major": 2,
       "version_minor": 0,
       "model_id": "bee7c16b2f60406eb5483f47b2b66fef"
      }
     },
     "metadata": {},
     "output_type": "display_data"
    },
    {
     "data": {
      "text/plain": "0    MX12038\n1    MX12038\n2    MX12038\n3    MX12038\n4    MX12038\nName: main_mun, dtype: object"
     },
     "execution_count": 61,
     "metadata": {},
     "output_type": "execute_result"
    }
   ],
   "source": [
    "# Define var \"main_mun\": main mun if unambiguous, else main home mun (based on time) if unambiguous, else NaN\n",
    "df.reset_index(drop=True, inplace=True)\n",
    "df[\"main_mun\"] = df.swifter.apply(lambda x:\n",
    "                                     x[\"main_mun_all\"] if x[\"nr_main_muns\"] == 1\n",
    "                                     else (x[\"main_mun_home\"] if x[\"nr_home_muns\"] == 1\n",
    "                                           else np.nan),\n",
    "                                     axis=1)\n",
    "df[\"main_mun\"].head()"
   ],
   "metadata": {
    "collapsed": false
   }
  },
  {
   "cell_type": "code",
   "execution_count": 62,
   "outputs": [
    {
     "name": "stdout",
     "output_type": "stream",
     "text": [
      "11305\n",
      "0.0041382804300883185\n"
     ]
    }
   ],
   "source": [
    "# Inspect number of ambiguous cases\n",
    "print(df[\"main_mun\"].isna().sum())\n",
    "print(df[\"main_mun\"].isna().mean())"
   ],
   "metadata": {
    "collapsed": false
   }
  },
  {
   "cell_type": "code",
   "execution_count": 69,
   "outputs": [
    {
     "data": {
      "text/plain": "     GEOID              user_id main_mun_all main_mun\n0  MX12038  1394205255076823042      MX12038  MX12038\n1  MX12038  1394205255076823042      MX12038  MX12038\n2  MX12038  1394205255076823042      MX12038  MX12038\n3  MX12038  1394205255076823042      MX12038  MX12038\n4  MX12038  1394205255076823042      MX12038  MX12038",
      "text/html": "<div>\n<style scoped>\n    .dataframe tbody tr th:only-of-type {\n        vertical-align: middle;\n    }\n\n    .dataframe tbody tr th {\n        vertical-align: top;\n    }\n\n    .dataframe thead th {\n        text-align: right;\n    }\n</style>\n<table border=\"1\" class=\"dataframe\">\n  <thead>\n    <tr style=\"text-align: right;\">\n      <th></th>\n      <th>GEOID</th>\n      <th>user_id</th>\n      <th>main_mun_all</th>\n      <th>main_mun</th>\n    </tr>\n  </thead>\n  <tbody>\n    <tr>\n      <th>0</th>\n      <td>MX12038</td>\n      <td>1394205255076823042</td>\n      <td>MX12038</td>\n      <td>MX12038</td>\n    </tr>\n    <tr>\n      <th>1</th>\n      <td>MX12038</td>\n      <td>1394205255076823042</td>\n      <td>MX12038</td>\n      <td>MX12038</td>\n    </tr>\n    <tr>\n      <th>2</th>\n      <td>MX12038</td>\n      <td>1394205255076823042</td>\n      <td>MX12038</td>\n      <td>MX12038</td>\n    </tr>\n    <tr>\n      <th>3</th>\n      <td>MX12038</td>\n      <td>1394205255076823042</td>\n      <td>MX12038</td>\n      <td>MX12038</td>\n    </tr>\n    <tr>\n      <th>4</th>\n      <td>MX12038</td>\n      <td>1394205255076823042</td>\n      <td>MX12038</td>\n      <td>MX12038</td>\n    </tr>\n  </tbody>\n</table>\n</div>"
     },
     "execution_count": 69,
     "metadata": {},
     "output_type": "execute_result"
    }
   ],
   "source": [
    "df[[\"GEOID\", \"user_id\", \"main_mun_all\", \"main_mun\"]].head()"
   ],
   "metadata": {
    "collapsed": false
   }
  },
  {
   "cell_type": "code",
   "execution_count": 70,
   "outputs": [
    {
     "name": "stdout",
     "output_type": "stream",
     "text": [
      "Total nr of muns:  2457\n",
      "Nr of muns with at least one tweet:  1996\n",
      "Nr of muns with at least one tweet as main mun:  1727\n"
     ]
    }
   ],
   "source": [
    "# Get mun-user for main mun\n",
    "print(\"Total nr of muns: \", len(muns))\n",
    "print(\"Nr of muns with at least one tweet: \", len(df[\"GEOID\"].unique()))\n",
    "print(\"Nr of muns with at least one tweet as main mun: \", len(df[\"main_mun\"].unique()))"
   ],
   "metadata": {
    "collapsed": false
   }
  },
  {
   "cell_type": "code",
   "execution_count": 71,
   "outputs": [
    {
     "data": {
      "text/plain": "count      1726.000000\nmean       1576.191194\nstd        7665.212300\nmin           1.000000\n25%           6.000000\n50%          42.000000\n75%         273.000000\nmax      120427.000000\nName: user_id, dtype: float64"
     },
     "execution_count": 71,
     "metadata": {},
     "output_type": "execute_result"
    }
   ],
   "source": [
    "df.groupby(\"main_mun\")[\"user_id\"].count().describe()"
   ],
   "metadata": {
    "collapsed": false
   }
  },
  {
   "cell_type": "markdown",
   "source": [
    "## 6. Finalize and export dataset and ID file\n",
    "\n"
   ],
   "metadata": {
    "collapsed": false
   }
  },
  {
   "cell_type": "markdown",
   "source": [
    "### 6.1. Clean and add columns with additional information"
   ],
   "metadata": {
    "collapsed": false
   }
  },
  {
   "cell_type": "code",
   "execution_count": 72,
   "outputs": [
    {
     "data": {
      "text/plain": "Index(['id', 'created_at', 'tweet', 'user_id', 'user_followers',\n       'user_friends', 'user_statuses', 'user_verified', 'user_description',\n       'user_created_at', 'place_type', 'place_name', 'bounding_box',\n       'is_quote_status', 'source', 'approx_coords', 'long', 'lat', 'geometry',\n       'GEOID', 'NAME', 'timezone', 'local_time', 'hour', 'day', 'weekday',\n       'workhours', 'nr_muns', 'main_mun_all', 'nr_main_muns', 'mun_home',\n       'main_mun_home', 'nr_home_muns', 'main_mun'],\n      dtype='object')"
     },
     "execution_count": 72,
     "metadata": {},
     "output_type": "execute_result"
    }
   ],
   "source": [
    "df.columns"
   ],
   "metadata": {
    "collapsed": false
   }
  },
  {
   "cell_type": "code",
   "execution_count": 73,
   "outputs": [],
   "source": [
    "# Drop redundant columns\n",
    "df.drop(['main_mun_all',\n",
    "         'nr_main_muns',\n",
    "         'mun_home',\n",
    "         'main_mun_home',\n",
    "         'nr_home_muns',\n",
    "         'geometry'],\n",
    "        inplace=True,\n",
    "        axis=1)\n"
   ],
   "metadata": {
    "collapsed": false
   }
  },
  {
   "cell_type": "code",
   "execution_count": 74,
   "outputs": [],
   "source": [
    "# mun name and ID\n",
    "df.rename({\"GEOID\":\"mun_id_tweet\",\n",
    "           \"NAME\" :\"mun_name_tweet\",\n",
    "           \"main_mun\": \"mun_id_user\"},\n",
    "          axis=1, inplace=True)\n",
    "df = df.merge(muns[[\"GEOID\", \"NAME\"]],\n",
    "              left_on=\"mun_id_user\",\n",
    "              right_on=\"GEOID\",\n",
    "              how=\"inner\")\n",
    "df.drop(\"GEOID\", inplace=True, axis=1)\n",
    "df.rename({\"NAME\": \"mun_name_user\"}, axis=1, inplace=True)"
   ],
   "metadata": {
    "collapsed": false
   }
  },
  {
   "cell_type": "code",
   "execution_count": 75,
   "outputs": [
    {
     "data": {
      "text/plain": "False    1829528\nTrue      890978\nName: iphone, dtype: int64"
     },
     "execution_count": 75,
     "metadata": {},
     "output_type": "execute_result"
    }
   ],
   "source": [
    "# iPhone users\n",
    "df[\"iphone\"] = df[\"source\"].isin([\"\"\"<a href=\"http://twitter.com/download/iphone\" rel=\"nofollow\">Twitter for iPhone</a>\"\"\",\n",
    "                                  \"\"\"<a href=\"http://twitter.com/#!/download/ipad\" rel=\"nofollow\">Twitter for iPad</a>\"\"\"])\n",
    "df[\"iphone\"].value_counts()"
   ],
   "metadata": {
    "collapsed": false
   }
  },
  {
   "cell_type": "code",
   "execution_count": 76,
   "outputs": [
    {
     "name": "stdout",
     "output_type": "stream",
     "text": [
      "False    0.958469\n",
      "True     0.041531\n",
      "Name: insta, dtype: float64\n",
      "False    0.701491\n",
      "True     0.298509\n",
      "Name: tweet, dtype: float64\n"
     ]
    }
   ],
   "source": [
    "# Instagram retweets\n",
    "df[\"insta\"] = df[\"source\"] == \"\"\"<a href=\"http://instagram.com\" rel=\"nofollow\">Instagram</a>\"\"\"\n",
    "print(df[\"insta\"].value_counts(normalize=True))\n",
    "\n",
    "# Check Instagram tweets with default retweet text\n",
    "insta = df[df[\"source\"] == \"\"\"<a href=\"http://instagram.com\" rel=\"nofollow\">Instagram</a>\"\"\"]\n",
    "print(insta[\"tweet\"].str.startswith(\"Acaba de publicar una foto\").value_counts(normalize=True))\n",
    "\n",
    "# Exclude Instagram tweets with default retweet text\n",
    "df = df.loc[~((df[\"source\"] == \"\"\"<a href=\"http://instagram.com\" rel=\"nofollow\">Instagram</a>\"\"\") &\n",
    "              (df[\"tweet\"].str.startswith(\"Acaba de publicar una foto\"))), :]"
   ],
   "metadata": {
    "collapsed": false
   }
  },
  {
   "cell_type": "code",
   "execution_count": 77,
   "outputs": [
    {
     "name": "stdout",
     "output_type": "stream",
     "text": [
      "count    2.686779e+06\n",
      "mean     9.173218e+01\n",
      "std      7.286075e+01\n",
      "min      4.000000e+00\n",
      "25%      4.000000e+01\n",
      "50%      6.700000e+01\n",
      "75%      1.180000e+02\n",
      "max      9.990000e+02\n",
      "Name: tweet_length, dtype: float64\n",
      "count    2.340248e+06\n",
      "mean     8.488444e+01\n",
      "std      4.926868e+01\n",
      "min      1.000000e+00\n",
      "25%      4.100000e+01\n",
      "50%      8.300000e+01\n",
      "75%      1.320000e+02\n",
      "max      1.980000e+02\n",
      "Name: user_length, dtype: float64\n"
     ]
    }
   ],
   "source": [
    "# Length of tweet and user description\n",
    "df[\"tweet_length\"] = df[\"tweet\"].str.len()\n",
    "df[\"user_length\"] = df[\"user_description\"].str.len()\n",
    "print(df[\"tweet_length\"].describe())\n",
    "print(df[\"user_length\"].describe())"
   ],
   "metadata": {
    "collapsed": false
   }
  },
  {
   "cell_type": "code",
   "execution_count": 78,
   "outputs": [
    {
     "data": {
      "text/plain": "count    2.686779e+06\nmean     3.756926e+00\nstd      4.044559e+00\nmin      1.000000e+00\n25%      1.000000e+00\n50%      3.000000e+00\n75%      5.000000e+00\nmax      9.100000e+01\nName: user_nr_muns, dtype: float64"
     },
     "execution_count": 78,
     "metadata": {},
     "output_type": "execute_result"
    }
   ],
   "source": [
    "# Mobility of users\n",
    "df.rename({\"nr_muns\":\"user_nr_muns\"}, inplace=True, axis=1)\n",
    "df[\"user_nr_muns\"].describe()"
   ],
   "metadata": {
    "collapsed": false
   }
  },
  {
   "cell_type": "code",
   "execution_count": 79,
   "outputs": [
    {
     "data": {
      "text/plain": "Index(['mun_id_tweet', 'mun_name_tweet', 'mun_id_user', 'mun_name_user', 'id',\n       'created_at', 'tweet', 'user_id', 'user_followers', 'user_friends',\n       'user_statuses', 'user_verified', 'user_description', 'user_created_at',\n       'place_type', 'place_name', 'bounding_box', 'is_quote_status', 'source',\n       'approx_coords', 'long', 'lat', 'timezone', 'local_time', 'hour', 'day',\n       'weekday', 'workhours', 'user_nr_muns', 'iphone', 'insta',\n       'tweet_length', 'user_length'],\n      dtype='object')"
     },
     "execution_count": 79,
     "metadata": {},
     "output_type": "execute_result"
    }
   ],
   "source": [
    "# Order columns\n",
    "move_cols = ['mun_id_tweet', 'mun_name_tweet', 'mun_id_user', 'mun_name_user']\n",
    "cols  = move_cols + [col for col in df.columns if col not in move_cols]\n",
    "df = df[cols]\n",
    "df.columns"
   ],
   "metadata": {
    "collapsed": false
   }
  },
  {
   "cell_type": "markdown",
   "source": [
    "### 6.2. Export files\n"
   ],
   "metadata": {
    "collapsed": false
   }
  },
  {
   "cell_type": "code",
   "execution_count": 82,
   "outputs": [],
   "source": [
    "# Export ID file\n",
    "df[[\"id\", \"user_id\", \"mun_id_tweet\", \"mun_id_user\"]].to_csv(output_path + r\"\\ids.csv\",\n",
    "                                                                  encoding=\"utf-8\",\n",
    "                                                                  sep=\";\",\n",
    "                                                                  index=False)"
   ],
   "metadata": {
    "collapsed": false
   }
  },
  {
   "cell_type": "code",
   "execution_count": 83,
   "outputs": [],
   "source": [
    "# Export full dataset (takes long)\n",
    "df.to_csv(output_path + r\"\\tweet_data.csv\",\n",
    "          encoding=\"utf-8\",\n",
    "          sep=\";\",\n",
    "          index=False)"
   ],
   "metadata": {
    "collapsed": false
   }
  },
  {
   "cell_type": "code",
   "execution_count": 84,
   "outputs": [
    {
     "data": {
      "text/plain": "2686779"
     },
     "execution_count": 84,
     "metadata": {},
     "output_type": "execute_result"
    }
   ],
   "source": [
    "# Nr of tweets in final sample\n",
    "len(df)"
   ],
   "metadata": {
    "collapsed": false
   }
  },
  {
   "cell_type": "code",
   "execution_count": 85,
   "outputs": [
    {
     "data": {
      "text/plain": "123309"
     },
     "execution_count": 85,
     "metadata": {},
     "output_type": "execute_result"
    }
   ],
   "source": [
    "# Nr of users in final sample\n",
    "df[\"user_id\"].nunique()"
   ],
   "metadata": {
    "collapsed": false
   }
  },
  {
   "cell_type": "code",
   "execution_count": null,
   "outputs": [],
   "source": [
    "# Delete LATER\n",
    "# df = pd.read_csv(output_path + r\"\\tweet_data.csv\",\n",
    "#           encoding=\"utf-8\",\n",
    "#           sep=\";\")"
   ],
   "metadata": {
    "collapsed": false
   }
  },
  {
   "cell_type": "code",
   "execution_count": 86,
   "outputs": [
    {
     "data": {
      "text/plain": "city            0.951762\nexact           0.029535\npoi             0.015859\nneighborhood    0.002845\nName: place_type, dtype: float64"
     },
     "execution_count": 86,
     "metadata": {},
     "output_type": "execute_result"
    }
   ],
   "source": [
    "df[\"place_type\"].value_counts(normalize=True)"
   ],
   "metadata": {
    "collapsed": false
   }
  }
 ],
 "metadata": {
  "kernelspec": {
   "display_name": "Python 3 (ipykernel)",
   "language": "python",
   "name": "python3"
  },
  "language_info": {
   "codemirror_mode": {
    "name": "ipython",
    "version": 3
   },
   "file_extension": ".py",
   "mimetype": "text/x-python",
   "name": "python",
   "nbconvert_exporter": "python",
   "pygments_lexer": "ipython3",
   "version": "3.8.8"
  }
 },
 "nbformat": 4,
 "nbformat_minor": 1
}
